{
 "cells": [
  {
   "cell_type": "markdown",
   "id": "28ff6e1e",
   "metadata": {},
   "source": [
    "# Data Cleaning Phase II"
   ]
  },
  {
   "cell_type": "markdown",
   "id": "3f37e836",
   "metadata": {},
   "source": [
    "In this notebook, you will do the following:\n",
    "* Section 1: Data Cleaning\n",
    "* Section 2: Data Quality and Testing\n",
    "* Section 3: Work Flow Model\n",
    "* Section 4: Conclusion"
   ]
  },
  {
   "cell_type": "markdown",
   "id": "6cf7de7d",
   "metadata": {},
   "source": [
    "## Section 1: Data Cleaning Steps\n",
    "Data cleaning for this project was done with two tools, OpenRefine and Python. We used OpenRefine to trim whitespace and do data type conversions. We use Python for key constraints, empty/null values, outliers, and normalization."
   ]
  },
  {
   "cell_type": "code",
   "execution_count": 2,
   "id": "d6b5a0e6",
   "metadata": {},
   "outputs": [],
   "source": [
    "import pandas as pd\n",
    "import numpy as np\n",
    "import matplotlib.pyplot as plt\n",
    "import matplotlib.image as img\n",
    "import seaborn as sns\n",
    "plt.style.use('seaborn')\n",
    "import os\n",
    "import json"
   ]
  },
  {
   "cell_type": "markdown",
   "id": "56b365a5",
   "metadata": {},
   "source": [
    "### OpenRefine: Dish dataset cleaning\n",
    "\n",
    "**Step 1.1**\n",
    "\n",
    "**Description:** We trim the whitespace from the dish name and we convert the prices to number values.\n",
    "\n",
    "**Rationale:** Trimming the dish name whitespace will allow us to more accurately find duplicate dishes and better track prices over time. Converting prices to numbers will help us run calculations that can't be run on a string."
   ]
  },
  {
   "cell_type": "code",
   "execution_count": 2,
   "id": "4585b083",
   "metadata": {},
   "outputs": [
    {
     "data": {
      "text/plain": [
       "'[\\n  {\\n    \"op\": \"core/text-transform\",\\n    \"engineConfig\": {\\n      \"facets\": [],\\n      \"mode\": \"row-based\"\\n    },\\n    \"columnName\": \"name\",\\n    \"expression\": \"value.trim()\",\\n    \"onError\": \"keep-original\",\\n    \"repeat\": false,\\n    \"repeatCount\": 10,\\n    \"description\": \"Text transform on cells in column name using expression value.trim()\"\\n  },\\n  {\\n    \"op\": \"core/text-transform\",\\n    \"engineConfig\": {\\n      \"facets\": [],\\n      \"mode\": \"row-based\"\\n    },\\n    \"columnName\": \"lowest_price\",\\n    \"expression\": \"value.toNumber()\",\\n    \"onError\": \"keep-original\",\\n    \"repeat\": false,\\n    \"repeatCount\": 10,\\n    \"description\": \"Text transform on cells in column lowest_price using expression value.toNumber()\"\\n  },\\n  {\\n    \"op\": \"core/text-transform\",\\n    \"engineConfig\": {\\n      \"facets\": [],\\n      \"mode\": \"row-based\"\\n    },\\n    \"columnName\": \"highest_price\",\\n    \"expression\": \"value.toNumber()\",\\n    \"onError\": \"keep-original\",\\n    \"repeat\": false,\\n    \"repeatCount\": 10,\\n    \"description\": \"Text transform on cells in column highest_price using expression value.toNumber()\"\\n  }\\n]'"
      ]
     },
     "execution_count": 2,
     "metadata": {},
     "output_type": "execute_result"
    }
   ],
   "source": [
    "\"\"\"[\n",
    "  {\n",
    "    \"op\": \"core/text-transform\",\n",
    "    \"engineConfig\": {\n",
    "      \"facets\": [],\n",
    "      \"mode\": \"row-based\"\n",
    "    },\n",
    "    \"columnName\": \"name\",\n",
    "    \"expression\": \"value.trim()\",\n",
    "    \"onError\": \"keep-original\",\n",
    "    \"repeat\": false,\n",
    "    \"repeatCount\": 10,\n",
    "    \"description\": \"Text transform on cells in column name using expression value.trim()\"\n",
    "  },\n",
    "  {\n",
    "    \"op\": \"core/text-transform\",\n",
    "    \"engineConfig\": {\n",
    "      \"facets\": [],\n",
    "      \"mode\": \"row-based\"\n",
    "    },\n",
    "    \"columnName\": \"lowest_price\",\n",
    "    \"expression\": \"value.toNumber()\",\n",
    "    \"onError\": \"keep-original\",\n",
    "    \"repeat\": false,\n",
    "    \"repeatCount\": 10,\n",
    "    \"description\": \"Text transform on cells in column lowest_price using expression value.toNumber()\"\n",
    "  },\n",
    "  {\n",
    "    \"op\": \"core/text-transform\",\n",
    "    \"engineConfig\": {\n",
    "      \"facets\": [],\n",
    "      \"mode\": \"row-based\"\n",
    "    },\n",
    "    \"columnName\": \"highest_price\",\n",
    "    \"expression\": \"value.toNumber()\",\n",
    "    \"onError\": \"keep-original\",\n",
    "    \"repeat\": false,\n",
    "    \"repeatCount\": 10,\n",
    "    \"description\": \"Text transform on cells in column highest_price using expression value.toNumber()\"\n",
    "  }\n",
    "]\"\"\""
   ]
  },
  {
   "cell_type": "markdown",
   "id": "5b660f84",
   "metadata": {},
   "source": [
    "### OpenRefine: Menu Item Cleaning\n",
    "\n",
    "**Step 1.2**\n",
    "\n",
    "**Description:** We convert the prices to number values and we trim off the timestamp and convert the datestring to a date type.\n",
    "\n",
    "**Rationale:** Converting prices and dates will help us run calculations that can't be run on a string. We trim times from menu item dates so that we can assess dish price with less granularity. This way we can group menu items by their date instead of having menu items all at different times."
   ]
  },
  {
   "cell_type": "code",
   "execution_count": 3,
   "id": "181493f1",
   "metadata": {},
   "outputs": [
    {
     "data": {
      "text/plain": [
       "'[\\n  {\\n    \"op\": \"core/text-transform\",\\n    \"engineConfig\": {\\n      \"facets\": [],\\n      \"mode\": \"row-based\"\\n    },\\n    \"columnName\": \"price\",\\n    \"expression\": \"value.toNumber()\",\\n    \"onError\": \"keep-original\",\\n    \"repeat\": false,\\n    \"repeatCount\": 10,\\n    \"description\": \"Text transform on cells in column price using expression value.toNumber()\"\\n  },\\n  {\\n    \"op\": \"core/text-transform\",\\n    \"engineConfig\": {\\n      \"facets\": [],\\n      \"mode\": \"row-based\"\\n    },\\n    \"columnName\": \"high_price\",\\n    \"expression\": \"value.toNumber()\",\\n    \"onError\": \"keep-original\",\\n    \"repeat\": false,\\n    \"repeatCount\": 10,\\n    \"description\": \"Text transform on cells in column high_price using expression value.toNumber()\"\\n  },\\n  {\\n    \"op\": \"core/text-transform\",\\n    \"engineConfig\": {\\n      \"facets\": [],\\n      \"mode\": \"row-based\"\\n    },\\n    \"columnName\": \"created_at\",\\n    \"expression\": \"grel:value[0,10]\",\\n    \"onError\": \"keep-original\",\\n    \"repeat\": false,\\n    \"repeatCount\": 10,\\n    \"description\": \"Text transform on cells in column created_at using expression grel:value[0,10]\"\\n  },\\n  {\\n    \"op\": \"core/text-transform\",\\n    \"engineConfig\": {\\n      \"facets\": [],\\n      \"mode\": \"row-based\"\\n    },\\n    \"columnName\": \"updated_at\",\\n    \"expression\": \"grel:value[0,10]\",\\n    \"onError\": \"keep-original\",\\n    \"repeat\": false,\\n    \"repeatCount\": 10,\\n    \"description\": \"Text transform on cells in column updated_at using expression grel:value[0,10]\"\\n  },\\n  {\\n    \"op\": \"core/text-transform\",\\n    \"engineConfig\": {\\n      \"facets\": [],\\n      \"mode\": \"row-based\"\\n    },\\n    \"columnName\": \"created_at\",\\n    \"expression\": \"value.toDate()\",\\n    \"onError\": \"keep-original\",\\n    \"repeat\": false,\\n    \"repeatCount\": 10,\\n    \"description\": \"Text transform on cells in column created_at using expression value.toDate()\"\\n  },\\n  {\\n    \"op\": \"core/text-transform\",\\n    \"engineConfig\": {\\n      \"facets\": [],\\n      \"mode\": \"row-based\"\\n    },\\n    \"columnName\": \"updated_at\",\\n    \"expression\": \"value.toDate()\",\\n    \"onError\": \"keep-original\",\\n    \"repeat\": false,\\n    \"repeatCount\": 10,\\n    \"description\": \"Text transform on cells in column updated_at using expression value.toDate()\"\\n  }\\n]'"
      ]
     },
     "execution_count": 3,
     "metadata": {},
     "output_type": "execute_result"
    }
   ],
   "source": [
    "\"\"\"[\n",
    "  {\n",
    "    \"op\": \"core/text-transform\",\n",
    "    \"engineConfig\": {\n",
    "      \"facets\": [],\n",
    "      \"mode\": \"row-based\"\n",
    "    },\n",
    "    \"columnName\": \"price\",\n",
    "    \"expression\": \"value.toNumber()\",\n",
    "    \"onError\": \"keep-original\",\n",
    "    \"repeat\": false,\n",
    "    \"repeatCount\": 10,\n",
    "    \"description\": \"Text transform on cells in column price using expression value.toNumber()\"\n",
    "  },\n",
    "  {\n",
    "    \"op\": \"core/text-transform\",\n",
    "    \"engineConfig\": {\n",
    "      \"facets\": [],\n",
    "      \"mode\": \"row-based\"\n",
    "    },\n",
    "    \"columnName\": \"high_price\",\n",
    "    \"expression\": \"value.toNumber()\",\n",
    "    \"onError\": \"keep-original\",\n",
    "    \"repeat\": false,\n",
    "    \"repeatCount\": 10,\n",
    "    \"description\": \"Text transform on cells in column high_price using expression value.toNumber()\"\n",
    "  },\n",
    "  {\n",
    "    \"op\": \"core/text-transform\",\n",
    "    \"engineConfig\": {\n",
    "      \"facets\": [],\n",
    "      \"mode\": \"row-based\"\n",
    "    },\n",
    "    \"columnName\": \"created_at\",\n",
    "    \"expression\": \"grel:value[0,10]\",\n",
    "    \"onError\": \"keep-original\",\n",
    "    \"repeat\": false,\n",
    "    \"repeatCount\": 10,\n",
    "    \"description\": \"Text transform on cells in column created_at using expression grel:value[0,10]\"\n",
    "  },\n",
    "  {\n",
    "    \"op\": \"core/text-transform\",\n",
    "    \"engineConfig\": {\n",
    "      \"facets\": [],\n",
    "      \"mode\": \"row-based\"\n",
    "    },\n",
    "    \"columnName\": \"updated_at\",\n",
    "    \"expression\": \"grel:value[0,10]\",\n",
    "    \"onError\": \"keep-original\",\n",
    "    \"repeat\": false,\n",
    "    \"repeatCount\": 10,\n",
    "    \"description\": \"Text transform on cells in column updated_at using expression grel:value[0,10]\"\n",
    "  },\n",
    "  {\n",
    "    \"op\": \"core/text-transform\",\n",
    "    \"engineConfig\": {\n",
    "      \"facets\": [],\n",
    "      \"mode\": \"row-based\"\n",
    "    },\n",
    "    \"columnName\": \"created_at\",\n",
    "    \"expression\": \"value.toDate()\",\n",
    "    \"onError\": \"keep-original\",\n",
    "    \"repeat\": false,\n",
    "    \"repeatCount\": 10,\n",
    "    \"description\": \"Text transform on cells in column created_at using expression value.toDate()\"\n",
    "  },\n",
    "  {\n",
    "    \"op\": \"core/text-transform\",\n",
    "    \"engineConfig\": {\n",
    "      \"facets\": [],\n",
    "      \"mode\": \"row-based\"\n",
    "    },\n",
    "    \"columnName\": \"updated_at\",\n",
    "    \"expression\": \"value.toDate()\",\n",
    "    \"onError\": \"keep-original\",\n",
    "    \"repeat\": false,\n",
    "    \"repeatCount\": 10,\n",
    "    \"description\": \"Text transform on cells in column updated_at using expression value.toDate()\"\n",
    "  }\n",
    "]\"\"\""
   ]
  },
  {
   "cell_type": "markdown",
   "id": "bbc4eb3f",
   "metadata": {},
   "source": [
    "### Python: Data Cleaning"
   ]
  },
  {
   "cell_type": "markdown",
   "id": "648c3303",
   "metadata": {},
   "source": [
    "**Step 1.3**\n",
    "\n",
    "**Description:** First we import the libraries we will be using and the datasets that we will be cleaning."
   ]
  },
  {
   "cell_type": "markdown",
   "id": "3e200493",
   "metadata": {},
   "source": [
    "@BEGIN main\n",
    "@PARAM file_path\n",
    "@IN dish_data  @URI file:{file_path}/open_refine_cleaned/Dish.csv\n",
    "@IN menu_item_data  @URI file:{file_path}/open_refine_cleaned/Menu-Item.csv\n",
    "@OUT cleaned_dish_data  @URI file:{file_path}/dishcleaned.csv\n",
    "@OUT cleaned_menu_item_data  @URI file:{file_path}/menu_item_cleaned.csv"
   ]
  },
  {
   "cell_type": "code",
   "execution_count": 5,
   "id": "b977deca",
   "metadata": {},
   "outputs": [],
   "source": [
    "import pandas as pd\n",
    "import pytest\n",
    "\n",
    "dish_df = pd.read_csv(\"../open_refine_cleaned/Dish.csv\")\n",
    "menu_item_df = pd.read_csv(\"../open_refine_cleaned/Menu-Item.csv\")"
   ]
  },
  {
   "cell_type": "markdown",
   "id": "4c448ad1",
   "metadata": {},
   "source": [
    "**Step 1.4**\n",
    "\n",
    "**Description:** We drop the rows that have an empty/null value for \"price\" and \"created_at\" columns.\n",
    "\n",
    "**Rationale:** Our use case deals with comparing menu item prices throughout time, we can’t analyze menu items if the dates or prices of that item are null. Since we have enough data even when removing the empty values we decided to remove all of the empty values."
   ]
  },
  {
   "cell_type": "markdown",
   "id": "6da74628",
   "metadata": {},
   "source": [
    "@BEGIN CleanPrice\n",
    "@PARAM file_path\n",
    "@IN Price @AS menu_item_data @URI file:{file_path}/open_refine_cleaned/Menu-Item.csv\n",
    "@OUT data @AS menu_item_clean_price"
   ]
  },
  {
   "cell_type": "code",
   "execution_count": 6,
   "id": "356854d0",
   "metadata": {},
   "outputs": [],
   "source": [
    "menu_item_df.dropna(subset=['price'], inplace=True)\n",
    "menu_item_df.dropna(subset=['created_at'], inplace=True)"
   ]
  },
  {
   "cell_type": "markdown",
   "id": "da803d56",
   "metadata": {},
   "source": [
    "@END CleanPrice"
   ]
  },
  {
   "cell_type": "markdown",
   "id": "23226f8f",
   "metadata": {},
   "source": [
    "@BEGIN DishTitleCase\n",
    "@PARAM file_path \n",
    "@IN title @AS dish_data @URI file:{file_path}/open_refine_cleaned/Dish.csv\n",
    "@OUT data @AS dish_title_case"
   ]
  },
  {
   "cell_type": "markdown",
   "id": "3e45b5c2",
   "metadata": {},
   "source": [
    "**Step 1.5**\n",
    "\n",
    "**Description:** Convert the dish names to title case.\n",
    "\n",
    "**Rationale:** Similar to trimming the dish names, converting the dish names to title case will allow us to more accurately detect duplipcates and merge them for better price tracking."
   ]
  },
  {
   "cell_type": "code",
   "execution_count": 7,
   "id": "d2550e9a",
   "metadata": {},
   "outputs": [],
   "source": [
    "dish_df[\"name\"] = dish_df[\"name\"].str.title()"
   ]
  },
  {
   "cell_type": "markdown",
   "id": "4b128297",
   "metadata": {},
   "source": [
    "@END DishTitleCase"
   ]
  },
  {
   "cell_type": "markdown",
   "id": "e5475759",
   "metadata": {},
   "source": [
    "**Step 1.6**\n",
    "\n",
    "**Description:** Find all dishes with the same name and grouping them together.\n",
    "Setting all the duplicate dish menu items to the first dish id.\n",
    "Removing all but the first dishes from the dish data set.\n",
    "\n",
    "**Rationale:** Many dish names are similar/duplicates of each other, so they may be referring to the same food item, but under different dish_ids. We find these duplicates and merge them allowing us to have more data points per dish."
   ]
  },
  {
   "cell_type": "markdown",
   "id": "f2df837e",
   "metadata": {},
   "source": [
    "@BEGIN RemoveDuplicateDishes\n",
    "@IN dish @AS dish_title_case\n",
    "@OUT data @AS dish_unique"
   ]
  },
  {
   "cell_type": "code",
   "execution_count": 8,
   "id": "d2827975",
   "metadata": {},
   "outputs": [],
   "source": [
    "ids = dish_df[\"name\"]\n",
    "duped_name = dish_df[ids.isin(ids[ids.duplicated()])].sort_values(\"name\")\n",
    "duped_ids = duped_name.groupby(['name'])['id'].apply(lambda x: ','.join([str(y) for y in x])).reset_index()\n",
    "ids_to_drop = []\n",
    "\n",
    "for row in duped_ids.iterrows():\n",
    "    dish_ids = row[1][\"id\"].split(\",\")\n",
    "    first = int(dish_ids[0])\n",
    "    for id in dish_ids[1:]:\n",
    "        ids_to_drop.append(int(id))\n",
    "        menu_item_df.loc[menu_item_df[\"dish_id\"] == int(id), \"dish_id\"] = first\n",
    "        \n",
    "dish_df = dish_df[~dish_df['id'].isin(ids_to_drop)]"
   ]
  },
  {
   "cell_type": "markdown",
   "id": "c76ec24f",
   "metadata": {},
   "source": [
    "@END RemoveDuplicateDishes"
   ]
  },
  {
   "cell_type": "markdown",
   "id": "a5177e9d",
   "metadata": {},
   "source": [
    "**Step 1.7**\n",
    "\n",
    "**Description:** Removing menu items that have prices outside the 10th-90th percentile.\n",
    "\n",
    "**Rationale:** Removing outliers will allow us to more accurately analyze the changes in price over time. If a handful of dishes skyrocket in price, but they were a small part of all dishes, then that could skew the analysis. Therefore we removed all data points where the price was outside of the 10th-90th percentile."
   ]
  },
  {
   "cell_type": "markdown",
   "id": "9b95f95f",
   "metadata": {},
   "source": [
    "@BEGIN RemoveOutliers\n",
    "@IN Price @AS menu_item_clean_price\n",
    "@OUT data @AS menu_item_valid_price"
   ]
  },
  {
   "cell_type": "code",
   "execution_count": 9,
   "id": "c679aef9",
   "metadata": {},
   "outputs": [],
   "source": [
    "q_low = menu_item_df[\"price\"].quantile(0.10)\n",
    "q_hi  = menu_item_df[\"price\"].quantile(0.90)\n",
    "iqr = q_hi - q_low\n",
    "mul = 2.0\n",
    "\n",
    "menu_item_df = menu_item_df[(menu_item_df[\"price\"] < q_hi + mul * iqr) & (menu_item_df[\"price\"] > q_low - mul * iqr)]"
   ]
  },
  {
   "cell_type": "markdown",
   "id": "ff6d8c24",
   "metadata": {},
   "source": [
    "@END RemoveOutliers"
   ]
  },
  {
   "cell_type": "markdown",
   "id": "e3d9c84c",
   "metadata": {},
   "source": [
    "**Step 1.8**\n",
    "\n",
    "**Description:** Use min-max normalization for the menu item prices.\n",
    "\n",
    "**Rationale:** Normalizing the price data isn’t absolutely necessary for this investigation, but will help keep our data uniform and easy to read and understand."
   ]
  },
  {
   "cell_type": "markdown",
   "id": "c16fa5e5",
   "metadata": {},
   "source": [
    "@BEGIN NormalizePrice\n",
    "@IN Price @AS menu_item_valid_price\n",
    "@OUT data @AS menu_item_normalized_price"
   ]
  },
  {
   "cell_type": "code",
   "execution_count": 10,
   "id": "83a3df5f",
   "metadata": {},
   "outputs": [],
   "source": [
    "menu_item_df[\"price\"] = (menu_item_df[\"price\"] - menu_item_df[\"price\"].min()) / (menu_item_df[\"price\"].max() - menu_item_df[\"price\"].min())"
   ]
  },
  {
   "cell_type": "markdown",
   "id": "0256248d",
   "metadata": {},
   "source": [
    "@END NormalizePrice"
   ]
  },
  {
   "cell_type": "markdown",
   "id": "80b26e85",
   "metadata": {},
   "source": [
    "**Step 1.9**\n",
    "\n",
    "**Description:** Removing menu items that don’t have a particular dish associated with it and removing dishes that have no menu items associated with it.\n",
    "\n",
    "**Rationale:** If a menu item doesn't have an associated dish in the dish dataset, then we don’t want to consider it since that may be an invalid entry or it may not be possible to track its price over time."
   ]
  },
  {
   "cell_type": "markdown",
   "id": "777f621c",
   "metadata": {},
   "source": [
    "@BEGIN RemoveOrphanDishes\n",
    "@IN dish @AS dish_unique\n",
    "@OUT data @AS dish_valid"
   ]
  },
  {
   "cell_type": "code",
   "execution_count": 11,
   "id": "19a04606",
   "metadata": {},
   "outputs": [],
   "source": [
    "dish_df = dish_df[dish_df['id'].isin(menu_item_df[\"dish_id\"])]\n",
    "menu_item_df = menu_item_df[menu_item_df['dish_id'].isin(dish_df[\"id\"])]"
   ]
  },
  {
   "cell_type": "markdown",
   "id": "e1f82349",
   "metadata": {},
   "source": [
    "@END RemoveOrphanDishes"
   ]
  },
  {
   "cell_type": "markdown",
   "id": "2f558e72",
   "metadata": {},
   "source": [
    "@BEGIN RemoveOrphanMenuItems\n",
    "@IN menu @AS menu_item_normalized_price\n",
    "@OUT data @AS menu_items_valid\n",
    "@END RemoveOrphanMenuItems"
   ]
  },
  {
   "cell_type": "markdown",
   "id": "46420889",
   "metadata": {},
   "source": [
    "**Step 1.10**\n",
    "\n",
    "**Description:** Standardizing the created_at into ISO format.\n",
    "\n",
    "**Rationale:** In order to analyze the dish prices over time, we need a standard date format for the created_at field."
   ]
  },
  {
   "cell_type": "markdown",
   "id": "d697f2eb",
   "metadata": {},
   "source": [
    "@BEGIN StandardizeDates\n",
    "@IN menu @AS menu_items_valid\n",
    "@OUT data @AS menu_items_std_date"
   ]
  },
  {
   "cell_type": "code",
   "execution_count": 12,
   "id": "2bfc3538",
   "metadata": {},
   "outputs": [],
   "source": [
    "menu_item_df['created_at'] = pd.to_datetime(menu_item_df['created_at'])\n"
   ]
  },
  {
   "cell_type": "markdown",
   "id": "5a9a65d4",
   "metadata": {},
   "source": [
    "@END StandardizeDates"
   ]
  },
  {
   "cell_type": "markdown",
   "id": "7e54e459",
   "metadata": {},
   "source": [
    "**Step 1.11**\n",
    "\n",
    "**Description:** Write the cleaned data to files."
   ]
  },
  {
   "cell_type": "code",
   "execution_count": 13,
   "id": "0560869d",
   "metadata": {},
   "outputs": [],
   "source": [
    "## Write cleaned data to files\n",
    "dish_df.to_csv(\"../python_cleaned/Dish.csv\", index=False)\n",
    "menu_item_df.to_csv(\"../python_cleaned/Menu-Item.csv\", index=False)"
   ]
  },
  {
   "cell_type": "markdown",
   "id": "07ff2003",
   "metadata": {},
   "source": [
    "## Section 2: Document Data Quality Changes"
   ]
  },
  {
   "cell_type": "markdown",
   "id": "65d63d70",
   "metadata": {},
   "source": [
    "**Description:** Run a series of tests to prove that the data quality has been improved.\n",
    "\n",
    "**Rationale:** We compare and contrast the uncleaned versus the cleaned data."
   ]
  },
  {
   "cell_type": "code",
   "execution_count": null,
   "id": "b840e4e7",
   "metadata": {},
   "outputs": [],
   "source": [
    "dish_df_uncleaned = pd.read_csv(\"../open_refine_cleaned/Dish.csv\")\n",
    "menu_item_df_uncleaned = pd.read_csv(\"../open_refine_cleaned/Menu-Item.csv\")"
   ]
  },
  {
   "cell_type": "markdown",
   "id": "13f2a4a3",
   "metadata": {},
   "source": [
    "**Step 2.1a**\n",
    "\n",
    "**Description:** Provide a high level summary of the cleaned versus uncleaned data frames for the dish_df.\n",
    "\n",
    "**Test Type:** Data Completeness\n",
    "\n",
    "**Rationale:** We know that many dish names are similar/duplicates of each other, so they may be referring to the same food item, but under different dish_ids. We removed these duplicates, which would explain why the cleaned dish_df has 232,874 ids versus the uncleaned dish_df which has 423,397."
   ]
  },
  {
   "cell_type": "code",
   "execution_count": null,
   "id": "2e30a852",
   "metadata": {},
   "outputs": [],
   "source": [
    "dish_df_uncleaned.info()"
   ]
  },
  {
   "cell_type": "code",
   "execution_count": null,
   "id": "099238fb",
   "metadata": {},
   "outputs": [],
   "source": [
    "dish_df.info()"
   ]
  },
  {
   "cell_type": "markdown",
   "id": "862ebf29",
   "metadata": {},
   "source": [
    "**Step 2.1b**\n",
    "\n",
    "**Description:** Provide a high level summary of the cleaned versus uncleaned data frames for the menu_item_df.\n",
    "\n",
    "**Test Type:** Data Completeness\n",
    "\n",
    "**Rationale:** We dropped menu items that don't have an associated dish in the dish dataset, which would explain why the cleaned menu_item_df has 846,136 ids versus the uncleaned menu_item_df which has 1,332,726 ids."
   ]
  },
  {
   "cell_type": "code",
   "execution_count": null,
   "id": "ba54e0c7",
   "metadata": {},
   "outputs": [],
   "source": [
    "menu_item_df_uncleaned.info()"
   ]
  },
  {
   "cell_type": "code",
   "execution_count": null,
   "id": "ecbea789",
   "metadata": {},
   "outputs": [],
   "source": [
    "menu_item_df.info()"
   ]
  },
  {
   "cell_type": "markdown",
   "id": "269e9852",
   "metadata": {},
   "source": [
    "**Step 2.2**\n",
    "\n",
    "**Test Type:** Data Completeness\n",
    "\n",
    "**Description:** Test to see if there are still missing dish prices.\n",
    "\n",
    "**Rationale:** In step 1.4 we removed dishes with a null price, the following test will assure that there are no dishes with missing prices."
   ]
  },
  {
   "cell_type": "code",
   "execution_count": null,
   "id": "ccb98a73",
   "metadata": {},
   "outputs": [],
   "source": [
    "def test_missing_dish_prices(menu_item_df):\n",
    "    missing_dish_price = menu_item_df[\"price\"].isnull().sum()\n",
    "    assert (\n",
    "        missing_dish_price == 0\n",
    "    ), f\"There are {missing_dish_price} missing dish prices\"\n",
    "    print('Test passed!')\n"
   ]
  },
  {
   "cell_type": "code",
   "execution_count": null,
   "id": "99856c40",
   "metadata": {},
   "outputs": [],
   "source": [
    "test_missing_dish_prices(menu_item_df)"
   ]
  },
  {
   "cell_type": "markdown",
   "id": "c34bfb4c",
   "metadata": {},
   "source": [
    "**Step 2.3**\n",
    "\n",
    "**Test Type:** Data Completeness\n",
    "\n",
    "**Description:** Test to see if there are still missing created dates.\n",
    "\n",
    "**Rationale:** Each item on the menu needs a created at date."
   ]
  },
  {
   "cell_type": "code",
   "execution_count": null,
   "id": "b907baae",
   "metadata": {},
   "outputs": [],
   "source": [
    "def test_missing_created_dates(menu_item_df):\n",
    "    missing_created_at = menu_item_df[\"created_at\"].isnull().sum()\n",
    "    assert (\n",
    "        missing_created_at == 0\n",
    "    ), f\"There are {missing_created_at} missing created at date\"\n",
    "    print('Test passed!')"
   ]
  },
  {
   "cell_type": "code",
   "execution_count": null,
   "id": "83a1eee5",
   "metadata": {},
   "outputs": [],
   "source": [
    "test_missing_created_dates(menu_item_df)"
   ]
  },
  {
   "cell_type": "markdown",
   "id": "07244e9f",
   "metadata": {},
   "source": [
    "**Step 2.4**\n",
    "\n",
    "**Test Type:** Integrity Constraint Violations\n",
    "\n",
    "**Description:** Test to see if there is a valid iso format for dates.\n",
    "\n",
    "**Rationale:** In order to compare dish prices over time, the dates must be in the proper format."
   ]
  },
  {
   "cell_type": "code",
   "execution_count": null,
   "id": "5ce99c98",
   "metadata": {},
   "outputs": [],
   "source": [
    "def test_created_at_datetime(menu_item_df):\n",
    "    try:\n",
    "        pd.to_datetime(menu_item_df['created_at'])\n",
    "        is_datetime = True\n",
    "    except ValueError:\n",
    "        is_datetime = False\n",
    "    assert (\n",
    "        is_datetime\n",
    "    ), f\"'created_at' column is of type {menu_item_df['created_at'].dtype}, and couldn't be converted to datetime\"\n",
    "    print('Test passed!')\n"
   ]
  },
  {
   "cell_type": "code",
   "execution_count": null,
   "id": "f88be8f7",
   "metadata": {},
   "outputs": [],
   "source": [
    "menu_item_df.head()"
   ]
  },
  {
   "cell_type": "code",
   "execution_count": null,
   "id": "11a9d397",
   "metadata": {},
   "outputs": [],
   "source": [
    "test_created_at_datetime(menu_item_df)"
   ]
  },
  {
   "cell_type": "markdown",
   "id": "722662dd",
   "metadata": {},
   "source": [
    "**Step 2.5**\n",
    "\n",
    "**Test Type:** Integrity Constraint Violations\n",
    "\n",
    "**Description:** Test to see if are no duplicate dish names.\n",
    "\n",
    "**Rationale:** In order to compare dishes properly, we need to remove duplicates.  We did this in step 1.6 in python."
   ]
  },
  {
   "cell_type": "code",
   "execution_count": null,
   "id": "a902a32f",
   "metadata": {},
   "outputs": [],
   "source": [
    "# Test function to check for duplicate names\n",
    "def test_no_duplicate_names(dish_df):\n",
    "    duplicate_names = dish_df.groupby([\"name\"])[\"name\"].count()\n",
    "    num_duplicate_names = duplicate_names[duplicate_names > 1].count()\n",
    "\n",
    "    assert (\n",
    "        num_duplicate_names == 0\n",
    "    ), f\"There are {num_duplicate_names} duplicate dish names\"\n",
    "    print('Test passed!')"
   ]
  },
  {
   "cell_type": "code",
   "execution_count": null,
   "id": "b573271e",
   "metadata": {
    "scrolled": true
   },
   "outputs": [],
   "source": [
    "test_no_duplicate_names(dish_df)"
   ]
  },
  {
   "cell_type": "markdown",
   "id": "201324e3",
   "metadata": {},
   "source": [
    "**Step 2.6**\n",
    "\n",
    "**Test Type:** Integrity Constraint Violations\n",
    "\n",
    "**Description:** Test to ensure there are no leading or trailing whitespaces.\n",
    "\n",
    "**Rationale:** In order to compare dishes properly, we need to remove duplicates.  We did this in step 1.1 with OpenRefine."
   ]
  },
  {
   "cell_type": "code",
   "execution_count": null,
   "id": "b2824249",
   "metadata": {},
   "outputs": [],
   "source": [
    "def test_no_leading_trailing_whitespace(dish_df):\n",
    "    dirty_dish_names = (\n",
    "        dish_df[\"name\"].apply(lambda x: isinstance(x, str) and (x.strip() != x)).sum()\n",
    "    )\n",
    "\n",
    "    assert (\n",
    "        dirty_dish_names == 0\n",
    "    ), f\"There are {dirty_dish_names} dish names with leading and trailing whitespace\"\n",
    "    print('Test passed!')"
   ]
  },
  {
   "cell_type": "code",
   "execution_count": null,
   "id": "bf150f80",
   "metadata": {},
   "outputs": [],
   "source": [
    "test_no_leading_trailing_whitespace(dish_df)"
   ]
  },
  {
   "cell_type": "markdown",
   "id": "b02639db",
   "metadata": {},
   "source": [
    "**Step 2.7**\n",
    "\n",
    "**Test Type:** Integrity Constraint Violations\n",
    "\n",
    "**Description:** Test to ensure dish names are formatted consistently with title case.\n",
    "\n",
    "**Rationale:** In order to compare dishes properly, we need each name to be in title case.  We did this in step 1.5 in python."
   ]
  },
  {
   "cell_type": "code",
   "execution_count": null,
   "id": "089825a4",
   "metadata": {},
   "outputs": [],
   "source": [
    "def test_name_consistent_format(dish_df):\n",
    "    inconsistent_format_count = 0\n",
    "\n",
    "    for name in dish_df[\"name\"]:\n",
    "        if not isinstance(name, str):\n",
    "            # check if the data is of type string\n",
    "            inconsistent_format_count += 1\n",
    "        elif name != name.title():\n",
    "            # check if the name is in title case\n",
    "            inconsistent_format_count += 1\n",
    "\n",
    "    assert (\n",
    "        inconsistent_format_count == 0\n",
    "    ), f\"There are {inconsistent_format_count} names with inconsistent format\"\n",
    "    print('Test passed!')"
   ]
  },
  {
   "cell_type": "code",
   "execution_count": null,
   "id": "85a750ca",
   "metadata": {},
   "outputs": [],
   "source": [
    "test_name_consistent_format(dish_df)"
   ]
  },
  {
   "cell_type": "markdown",
   "id": "2d2a4922",
   "metadata": {},
   "source": [
    "**Step 2.8**\n",
    "\n",
    "**Test Type:** Consistency\n",
    "\n",
    "**Description:** Test to ensure that outliers have been removed.\n",
    "\n",
    "**Rationale:** In order to avoid data skewing we need to remove outliers.  We removed outliers in section 1.7."
   ]
  },
  {
   "cell_type": "code",
   "execution_count": null,
   "id": "c693d55d",
   "metadata": {},
   "outputs": [],
   "source": [
    "def outliers_removed(olddataframe, dataframe, column_name, multiplier=1.5):\n",
    "    Q1 = olddataframe[column_name].quantile(0.10)\n",
    "    Q3 = olddataframe[column_name].quantile(0.90)\n",
    "    IQR = Q3 - Q1\n",
    "\n",
    "    # Count the number of outliers\n",
    "    outliers = dataframe[\n",
    "        (dataframe[column_name] < Q1 - multiplier * IQR)\n",
    "        | (dataframe[column_name] > Q3 + multiplier * IQR)\n",
    "    ]\n",
    "    outliers_count = outliers.shape[0]\n",
    "\n",
    "    assert outliers_count == 0, f\"There are {outliers_count} outliers in {column_name}\"\n",
    "\n",
    "def test_menu_item_price_outliers(old_menu_item_df, menu_item_df):\n",
    "    outliers_removed(old_menu_item_df, menu_item_df, \"price\", multiplier=2.0)\n",
    "    print('test passed')"
   ]
  },
  {
   "cell_type": "code",
   "execution_count": null,
   "id": "71e41793",
   "metadata": {},
   "outputs": [],
   "source": [
    "test_menu_item_price_outliers(menu_item_df_uncleaned, menu_item_df)"
   ]
  },
  {
   "cell_type": "code",
   "execution_count": null,
   "id": "e22a9ecf",
   "metadata": {},
   "outputs": [],
   "source": [
    "menu_item_df_uncleaned.price.describe()"
   ]
  },
  {
   "cell_type": "code",
   "execution_count": null,
   "id": "68dff426",
   "metadata": {},
   "outputs": [],
   "source": [
    "menu_item_df.price.describe()"
   ]
  },
  {
   "cell_type": "markdown",
   "id": "2541dd93",
   "metadata": {},
   "source": [
    "**Step 2.9**\n",
    "\n",
    "**Test Type:** Consistency\n",
    "\n",
    "**Description:** Test to ensure that the data has min-max normalization.\n",
    "\n",
    "**Rationale:** The price needs to be on the same scale so that each item is equally weighted."
   ]
  },
  {
   "cell_type": "code",
   "execution_count": null,
   "id": "b77d53c9",
   "metadata": {},
   "outputs": [],
   "source": [
    "def test_price_normalization(menu_item_df):\n",
    "    min_price = menu_item_df['price'].min()\n",
    "    max_price = menu_item_df['price'].max()\n",
    "    \n",
    "    assert min_price == 0, f\"Minimum price is {min_price}, expected 0 after normalization\"\n",
    "    assert max_price == 1, f\"Maximum price is {max_price}, expected 1 after normalization\"\n",
    "    \n",
    "    # To additionally check if there are any values outside the [0,1] range\n",
    "    assert not ((menu_item_df['price'] < 0).any() or (menu_item_df['price'] > 1).any()), \"There are 'price' values outside the [0,1] range after normalization\"\n",
    "    \n",
    "    print('Test passed!')\n"
   ]
  },
  {
   "cell_type": "code",
   "execution_count": null,
   "id": "1aa22279",
   "metadata": {},
   "outputs": [],
   "source": [
    "test_price_normalization(menu_item_df)\n"
   ]
  },
  {
   "cell_type": "markdown",
   "id": "49423780",
   "metadata": {},
   "source": [
    "## Section 3: Work Flow Model"
   ]
  },
  {
   "cell_type": "markdown",
   "id": "deff70b7",
   "metadata": {},
   "source": [
    "Step 3.1\n",
    "\n",
    "Yes Workflow Step: Dish Open Refine cleaning workflow\n",
    "\n",
    "Description: Generate Yes Workflow for Open Refine cleaning steps performed on dish dataset"
   ]
  },
  {
   "cell_type": "code",
   "execution_count": 7,
   "id": "da9298be",
   "metadata": {},
   "outputs": [
    {
     "data": {
      "text/plain": [
       "'java found:  java\\ndot found:  dot\\nFile ../yesworkflow/dish_openrefine_workflow.png generated.\\n'"
      ]
     },
     "execution_count": 7,
     "metadata": {},
     "output_type": "execute_result"
    }
   ],
   "source": [
    "os.popen(\"or2yw -i dish_history.json -o ../yesworkflow/dish_openrefine_workflow.png -ot=png\").read()"
   ]
  },
  {
   "cell_type": "code",
   "execution_count": 24,
   "id": "162e6eaf",
   "metadata": {},
   "outputs": [
    {
     "data": {
      "text/plain": [
       "'usage: or2yw [-h] [-i INPUT] [-o OUTPUT] [-t TYPE] [-ot OUTPUTTYPE]\\n             [-java JAVA] [-dot DOT] [-title TITLE] [-desc DESCRIPTION]\\n\\nOR2YW v0.0.15\\n\\noptional arguments:\\n  -h, --help            show this help message and exit\\n  -i INPUT, --input INPUT\\n                        openrefine json file\\n  -o OUTPUT, --output OUTPUT\\n                        yesworkflow output file\\n  -t TYPE, --type TYPE  Workflow Type, Produce [serial,parallel,merge]\\n                        workflow, Default: serial\\n  -ot OUTPUTTYPE, --outputtype OUTPUTTYPE\\n                        Output Type, Produce output [yw,gv,png,svg,pdf],\\n                        Default: yw\\n  -java JAVA, --java JAVA\\n                        Java Path, if not initialized will use the java\\n                        installation environment path\\n  -dot DOT, --dot DOT   Dot Path, if not initialized will use the dot\\n                        installation environment path\\n  -title TITLE, --title TITLE\\n                        Title for the Workflow\\n  -desc DESCRIPTION, --description DESCRIPTION\\n                        Description for the Workflow\\n'"
      ]
     },
     "execution_count": 24,
     "metadata": {},
     "output_type": "execute_result"
    }
   ],
   "source": [
    "os.popen(\"or2yw -i dishhistoryjson -o ../yesworkflow/dish_openrefine_workflow.png -ot=png\").read()"
   ]
  },
  {
   "cell_type": "code",
   "execution_count": 8,
   "id": "3e626341",
   "metadata": {},
   "outputs": [
    {
     "data": {
      "text/plain": [
       "<matplotlib.image.AxesImage at 0x1f4330e9820>"
      ]
     },
     "execution_count": 8,
     "metadata": {},
     "output_type": "execute_result"
    },
    {
     "data": {
      "image/png": "[encoded data removed]",
      "text/plain": [
       "<Figure size 800x550 with 1 Axes>"
      ]
     },
     "metadata": {},
     "output_type": "display_data"
    }
   ],
   "source": [
    "# reading png image file\n",
    "im = img.imread('../yesworkflow/dish_openrefine_workflow.png')\n",
    "# show image\n",
    "plt.imshow(im)"
   ]
  },
  {
   "cell_type": "markdown",
   "id": "c1bc9e74",
   "metadata": {},
   "source": [
    "Step 3.2\n",
    "\n",
    "Yes Workflow Step: Menu Item Open Refine cleaning workflow\n",
    "\n",
    "Description: Generate Yes Workflow for Open Refine cleaning steps performed on menu_item dataset"
   ]
  },
  {
   "cell_type": "code",
   "execution_count": 9,
   "id": "64fbad38",
   "metadata": {},
   "outputs": [
    {
     "data": {
      "text/plain": [
       "'java found:  java\\ndot found:  dot\\nFile ../yesworkflow/menu_item_workflow.png generated.\\n'"
      ]
     },
     "execution_count": 9,
     "metadata": {},
     "output_type": "execute_result"
    }
   ],
   "source": [
    "os.popen(\"or2yw -i menu_item_history.json -o ../yesworkflow/menu_item_workflow.png -ot=png\").read()"
   ]
  },
  {
   "cell_type": "code",
   "execution_count": 10,
   "id": "6cd67ef4",
   "metadata": {},
   "outputs": [
    {
     "data": {
      "text/plain": [
       "<matplotlib.image.AxesImage at 0x1f434374430>"
      ]
     },
     "execution_count": 10,
     "metadata": {},
     "output_type": "execute_result"
    },
    {
     "data": {
      "image/png": "[encoded data removed]",
      "text/plain": [
       "<Figure size 800x550 with 1 Axes>"
      ]
     },
     "metadata": {},
     "output_type": "display_data"
    }
   ],
   "source": [
    "# reading png image file\n",
    "im = img.imread('../yesworkflow/menu_item_workflow.png')\n",
    "# show image\n",
    "plt.imshow(im)"
   ]
  },
  {
   "cell_type": "code",
   "execution_count": null,
   "id": "64913e46",
   "metadata": {},
   "outputs": [],
   "source": [
    "Step 3.2\n",
    "\n",
    "Yes Workflow Step: Final Cleaning workflow for Dish and Menu Item \n",
    "\n",
    "Description: Generate Yes Workflow for python cleaning steps performed on dish and menu_item dataset"
   ]
  },
  {
   "cell_type": "code",
   "execution_count": 5,
   "id": "d9900060",
   "metadata": {},
   "outputs": [
    {
     "data": {
      "text/plain": [
       "''"
      ]
     },
     "execution_count": 5,
     "metadata": {},
     "output_type": "execute_result"
    }
   ],
   "source": [
    "os.popen(\"java -jar yesworkflow-0.2.0-jar-with-dependencies.jar graph data_cleaning_phase_II.py | dot -Tpng -o ../yesworkflow/dish_menu_clean_workflow.png\").read()"
   ]
  },
  {
   "cell_type": "code",
   "execution_count": 4,
   "id": "07c45ab4",
   "metadata": {},
   "outputs": [
    {
     "data": {
      "text/plain": [
       "<matplotlib.image.AxesImage at 0x1d2e62fba30>"
      ]
     },
     "execution_count": 4,
     "metadata": {},
     "output_type": "execute_result"
    },
    {
     "data": {
      "image/png": "[encoded data removed]",
      "text/plain": [
       "<Figure size 800x550 with 1 Axes>"
      ]
     },
     "metadata": {},
     "output_type": "display_data"
    }
   ],
   "source": [
    "# reading png image file\n",
    "im = img.imread('../yesworkflow/dish_menu_clean_workflow.png')\n",
    "# show image\n",
    "plt.imshow(im)"
   ]
  },
  {
   "cell_type": "markdown",
   "id": "c07ae22c",
   "metadata": {},
   "source": [
    "## Section 4: Conclusion"
   ]
  },
  {
   "cell_type": "markdown",
   "id": "79e3de71",
   "metadata": {},
   "source": [
    "In Phase II of the project, we focused on data cleaning to address the data quality problems identified in the dataset. We successfully executed test cases to ensure the data is clean and ready for analysis in the main use case - Dish Price Analysis (U1). The initial data quality problems related to missing data, dirty data, key constraints, and duplicates/similarities were addressed using various data cleaning techniques.\n",
    "\n",
    "For the main use case, we specifically focused on data related to dish prices, including the 'price', 'highest price', 'lowest price', and 'created at' fields. We ensured that the dataset has no missing dish prices, no NULL values in any columns, and outliers were removed. Additionally, we standardized data formats to ensure consistency, trimmed leading and trailing whitespaces from dish names, and removed duplicate dish names.\n",
    "\n",
    "Through this comprehensive data cleaning process, we have enhanced the quality of the dataset, ensuring it is accurate, reliable, and suitable for the Dish Price Analysis (U1) use case. This allows us to proceed with further data analysis and gain valuable insights into historical changes in dish prices over time. The clean and structured dataset will enable us to provide meaningful recommendations.\n",
    "\n",
    "In phase 2 the team made the following contributions:\n",
    "\n",
    "- Section 1 - Mohammed\n",
    "- Section 2 - David\n",
    "- Section 3 - Jhansi\n",
    "- Section 4 - All\n"
   ]
  },
  {
   "cell_type": "markdown",
   "id": "ec7d7dec",
   "metadata": {},
   "source": [
    "@END main"
   ]
  }
 ],
 "metadata": {
  "kernelspec": {
   "display_name": "Python 3 (ipykernel)",
   "language": "python",
   "name": "python3"
  },
  "language_info": {
   "codemirror_mode": {
    "name": "ipython",
    "version": 3
   },
   "file_extension": ".py",
   "mimetype": "text/x-python",
   "name": "python",
   "nbconvert_exporter": "python",
   "pygments_lexer": "ipython3",
   "version": "3.9.12"
  }
 },
 "nbformat": 4,
 "nbformat_minor": 5
}
