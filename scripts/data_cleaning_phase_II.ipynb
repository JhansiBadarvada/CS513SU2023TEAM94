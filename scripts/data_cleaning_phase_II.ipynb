{
 "cells": [
  {
   "cell_type": "markdown",
   "metadata": {},
   "source": [
    "# Data Cleaning Phase II"
   ]
  },
  {
   "cell_type": "markdown",
   "metadata": {},
   "source": [
    "In this notebook, you will do the following:\n",
    "* Section 1: Data Cleaning\n",
    "* Section 2: Data Quality and Testing\n",
    "* Section 3: Work Flow Model\n",
    "* Section 4: Conclusion"
   ]
  },
  {
   "cell_type": "markdown",
   "metadata": {},
   "source": [
    "## Section 1: Data Cleaning Steps\n",
    "Data cleaning for this project was done with two tools, OpenRefine and Python. We used OpenRefine to trim whitespace and do data type conversions. We use Python for key constraints, empty/null values, outliers, and normalization."
   ]
  },
  {
   "cell_type": "code",
   "execution_count": 12,
   "metadata": {},
   "outputs": [],
   "source": [
    "import pandas as pd\n",
    "import numpy as np\n",
    "import matplotlib.pyplot as plt\n",
    "import matplotlib.image as img\n",
    "import seaborn as sns\n",
    "plt.style.use('seaborn')\n",
    "import os\n",
    "import json"
   ]
  },
  {
   "cell_type": "markdown",
   "metadata": {},
   "source": [
    "### OpenRefine: Dish dataset cleaning\n",
    "\n",
    "**Step 1.1**\n",
    "\n",
    "**Description:** We trim the whitespace from the dish name and we convert the prices to number values.\n",
    "\n",
    "**Rationale:** Trimming the dish name whitespace will allow us to more accurately find duplicate dishes and better track prices over time. Converting prices to numbers will help us run calculations that can't be run on a string."
   ]
  },
  {
   "cell_type": "code",
   "execution_count": 13,
   "metadata": {},
   "outputs": [
    {
     "data": {
      "text/plain": [
       "'[\\n  {\\n    \"op\": \"core/text-transform\",\\n    \"engineConfig\": {\\n      \"facets\": [],\\n      \"mode\": \"row-based\"\\n    },\\n    \"columnName\": \"name\",\\n    \"expression\": \"value.trim()\",\\n    \"onError\": \"keep-original\",\\n    \"repeat\": false,\\n    \"repeatCount\": 10,\\n    \"description\": \"Text transform on cells in column name using expression value.trim()\"\\n  },\\n  {\\n    \"op\": \"core/text-transform\",\\n    \"engineConfig\": {\\n      \"facets\": [],\\n      \"mode\": \"row-based\"\\n    },\\n    \"columnName\": \"lowest_price\",\\n    \"expression\": \"value.toNumber()\",\\n    \"onError\": \"keep-original\",\\n    \"repeat\": false,\\n    \"repeatCount\": 10,\\n    \"description\": \"Text transform on cells in column lowest_price using expression value.toNumber()\"\\n  },\\n  {\\n    \"op\": \"core/text-transform\",\\n    \"engineConfig\": {\\n      \"facets\": [],\\n      \"mode\": \"row-based\"\\n    },\\n    \"columnName\": \"highest_price\",\\n    \"expression\": \"value.toNumber()\",\\n    \"onError\": \"keep-original\",\\n    \"repeat\": false,\\n    \"repeatCount\": 10,\\n    \"description\": \"Text transform on cells in column highest_price using expression value.toNumber()\"\\n  }\\n]'"
      ]
     },
     "execution_count": 13,
     "metadata": {},
     "output_type": "execute_result"
    }
   ],
   "source": [
    "\"\"\"[\n",
    "  {\n",
    "    \"op\": \"core/text-transform\",\n",
    "    \"engineConfig\": {\n",
    "      \"facets\": [],\n",
    "      \"mode\": \"row-based\"\n",
    "    },\n",
    "    \"columnName\": \"name\",\n",
    "    \"expression\": \"value.trim()\",\n",
    "    \"onError\": \"keep-original\",\n",
    "    \"repeat\": false,\n",
    "    \"repeatCount\": 10,\n",
    "    \"description\": \"Text transform on cells in column name using expression value.trim()\"\n",
    "  },\n",
    "  {\n",
    "    \"op\": \"core/text-transform\",\n",
    "    \"engineConfig\": {\n",
    "      \"facets\": [],\n",
    "      \"mode\": \"row-based\"\n",
    "    },\n",
    "    \"columnName\": \"lowest_price\",\n",
    "    \"expression\": \"value.toNumber()\",\n",
    "    \"onError\": \"keep-original\",\n",
    "    \"repeat\": false,\n",
    "    \"repeatCount\": 10,\n",
    "    \"description\": \"Text transform on cells in column lowest_price using expression value.toNumber()\"\n",
    "  },\n",
    "  {\n",
    "    \"op\": \"core/text-transform\",\n",
    "    \"engineConfig\": {\n",
    "      \"facets\": [],\n",
    "      \"mode\": \"row-based\"\n",
    "    },\n",
    "    \"columnName\": \"highest_price\",\n",
    "    \"expression\": \"value.toNumber()\",\n",
    "    \"onError\": \"keep-original\",\n",
    "    \"repeat\": false,\n",
    "    \"repeatCount\": 10,\n",
    "    \"description\": \"Text transform on cells in column highest_price using expression value.toNumber()\"\n",
    "  }\n",
    "]\"\"\""
   ]
  },
  {
   "cell_type": "markdown",
   "metadata": {},
   "source": [
    "### OpenRefine: Menu Item Cleaning\n",
    "\n",
    "**Step 1.2**\n",
    "\n",
    "**Description:** We convert the prices to number values and we trim off the timestamp and convert the datestring to a date type.\n",
    "\n",
    "**Rationale:** Converting prices and dates will help us run calculations that can't be run on a string. We trim times from menu item dates so that we can assess dish price with less granularity. This way we can group menu items by their date instead of having menu items all at different times."
   ]
  },
  {
   "cell_type": "code",
   "execution_count": 14,
   "metadata": {},
   "outputs": [
    {
     "data": {
      "text/plain": [
       "'[\\n  {\\n    \"op\": \"core/text-transform\",\\n    \"engineConfig\": {\\n      \"facets\": [],\\n      \"mode\": \"row-based\"\\n    },\\n    \"columnName\": \"price\",\\n    \"expression\": \"value.toNumber()\",\\n    \"onError\": \"keep-original\",\\n    \"repeat\": false,\\n    \"repeatCount\": 10,\\n    \"description\": \"Text transform on cells in column price using expression value.toNumber()\"\\n  },\\n  {\\n    \"op\": \"core/text-transform\",\\n    \"engineConfig\": {\\n      \"facets\": [],\\n      \"mode\": \"row-based\"\\n    },\\n    \"columnName\": \"high_price\",\\n    \"expression\": \"value.toNumber()\",\\n    \"onError\": \"keep-original\",\\n    \"repeat\": false,\\n    \"repeatCount\": 10,\\n    \"description\": \"Text transform on cells in column high_price using expression value.toNumber()\"\\n  },\\n  {\\n    \"op\": \"core/text-transform\",\\n    \"engineConfig\": {\\n      \"facets\": [],\\n      \"mode\": \"row-based\"\\n    },\\n    \"columnName\": \"created_at\",\\n    \"expression\": \"grel:value[0,10]\",\\n    \"onError\": \"keep-original\",\\n    \"repeat\": false,\\n    \"repeatCount\": 10,\\n    \"description\": \"Text transform on cells in column created_at using expression grel:value[0,10]\"\\n  },\\n  {\\n    \"op\": \"core/text-transform\",\\n    \"engineConfig\": {\\n      \"facets\": [],\\n      \"mode\": \"row-based\"\\n    },\\n    \"columnName\": \"updated_at\",\\n    \"expression\": \"grel:value[0,10]\",\\n    \"onError\": \"keep-original\",\\n    \"repeat\": false,\\n    \"repeatCount\": 10,\\n    \"description\": \"Text transform on cells in column updated_at using expression grel:value[0,10]\"\\n  },\\n  {\\n    \"op\": \"core/text-transform\",\\n    \"engineConfig\": {\\n      \"facets\": [],\\n      \"mode\": \"row-based\"\\n    },\\n    \"columnName\": \"created_at\",\\n    \"expression\": \"value.toDate()\",\\n    \"onError\": \"keep-original\",\\n    \"repeat\": false,\\n    \"repeatCount\": 10,\\n    \"description\": \"Text transform on cells in column created_at using expression value.toDate()\"\\n  },\\n  {\\n    \"op\": \"core/text-transform\",\\n    \"engineConfig\": {\\n      \"facets\": [],\\n      \"mode\": \"row-based\"\\n    },\\n    \"columnName\": \"updated_at\",\\n    \"expression\": \"value.toDate()\",\\n    \"onError\": \"keep-original\",\\n    \"repeat\": false,\\n    \"repeatCount\": 10,\\n    \"description\": \"Text transform on cells in column updated_at using expression value.toDate()\"\\n  }\\n]'"
      ]
     },
     "execution_count": 14,
     "metadata": {},
     "output_type": "execute_result"
    }
   ],
   "source": [
    "\"\"\"[\n",
    "  {\n",
    "    \"op\": \"core/text-transform\",\n",
    "    \"engineConfig\": {\n",
    "      \"facets\": [],\n",
    "      \"mode\": \"row-based\"\n",
    "    },\n",
    "    \"columnName\": \"price\",\n",
    "    \"expression\": \"value.toNumber()\",\n",
    "    \"onError\": \"keep-original\",\n",
    "    \"repeat\": false,\n",
    "    \"repeatCount\": 10,\n",
    "    \"description\": \"Text transform on cells in column price using expression value.toNumber()\"\n",
    "  },\n",
    "  {\n",
    "    \"op\": \"core/text-transform\",\n",
    "    \"engineConfig\": {\n",
    "      \"facets\": [],\n",
    "      \"mode\": \"row-based\"\n",
    "    },\n",
    "    \"columnName\": \"high_price\",\n",
    "    \"expression\": \"value.toNumber()\",\n",
    "    \"onError\": \"keep-original\",\n",
    "    \"repeat\": false,\n",
    "    \"repeatCount\": 10,\n",
    "    \"description\": \"Text transform on cells in column high_price using expression value.toNumber()\"\n",
    "  },\n",
    "  {\n",
    "    \"op\": \"core/text-transform\",\n",
    "    \"engineConfig\": {\n",
    "      \"facets\": [],\n",
    "      \"mode\": \"row-based\"\n",
    "    },\n",
    "    \"columnName\": \"created_at\",\n",
    "    \"expression\": \"grel:value[0,10]\",\n",
    "    \"onError\": \"keep-original\",\n",
    "    \"repeat\": false,\n",
    "    \"repeatCount\": 10,\n",
    "    \"description\": \"Text transform on cells in column created_at using expression grel:value[0,10]\"\n",
    "  },\n",
    "  {\n",
    "    \"op\": \"core/text-transform\",\n",
    "    \"engineConfig\": {\n",
    "      \"facets\": [],\n",
    "      \"mode\": \"row-based\"\n",
    "    },\n",
    "    \"columnName\": \"updated_at\",\n",
    "    \"expression\": \"grel:value[0,10]\",\n",
    "    \"onError\": \"keep-original\",\n",
    "    \"repeat\": false,\n",
    "    \"repeatCount\": 10,\n",
    "    \"description\": \"Text transform on cells in column updated_at using expression grel:value[0,10]\"\n",
    "  },\n",
    "  {\n",
    "    \"op\": \"core/text-transform\",\n",
    "    \"engineConfig\": {\n",
    "      \"facets\": [],\n",
    "      \"mode\": \"row-based\"\n",
    "    },\n",
    "    \"columnName\": \"created_at\",\n",
    "    \"expression\": \"value.toDate()\",\n",
    "    \"onError\": \"keep-original\",\n",
    "    \"repeat\": false,\n",
    "    \"repeatCount\": 10,\n",
    "    \"description\": \"Text transform on cells in column created_at using expression value.toDate()\"\n",
    "  },\n",
    "  {\n",
    "    \"op\": \"core/text-transform\",\n",
    "    \"engineConfig\": {\n",
    "      \"facets\": [],\n",
    "      \"mode\": \"row-based\"\n",
    "    },\n",
    "    \"columnName\": \"updated_at\",\n",
    "    \"expression\": \"value.toDate()\",\n",
    "    \"onError\": \"keep-original\",\n",
    "    \"repeat\": false,\n",
    "    \"repeatCount\": 10,\n",
    "    \"description\": \"Text transform on cells in column updated_at using expression value.toDate()\"\n",
    "  }\n",
    "]\"\"\""
   ]
  },
  {
   "cell_type": "markdown",
   "metadata": {},
   "source": [
    "### Python: Data Cleaning"
   ]
  },
  {
   "cell_type": "markdown",
   "metadata": {},
   "source": [
    "**Step 1.3**\n",
    "\n",
    "**Description:** First we import the libraries we will be using and the datasets that we will be cleaning."
   ]
  },
  {
   "cell_type": "markdown",
   "metadata": {},
   "source": [
    "@BEGIN main\n",
    "@PARAM file_path\n",
    "@IN dish_data  @URI file:{file_path}/open_refine_cleaned/Dish.csv\n",
    "@IN menu_item_data  @URI file:{file_path}/open_refine_cleaned/Menu-Item.csv\n",
    "@OUT cleaned_dish_data  @URI file:{file_path}/dishcleaned.csv\n",
    "@OUT cleaned_menu_item_data  @URI file:{file_path}/menu_item_cleaned.csv"
   ]
  },
  {
   "cell_type": "code",
   "execution_count": 15,
   "metadata": {},
   "outputs": [],
   "source": [
    "import pandas as pd\n",
    "import pytest\n",
    "\n",
    "dish_df = pd.read_csv(\"../open_refine_cleaned/Dish.csv\")\n",
    "menu_item_df = pd.read_csv(\"../open_refine_cleaned/Menu-Item.csv\")"
   ]
  },
  {
   "cell_type": "markdown",
   "metadata": {},
   "source": [
    "**Step 1.4**\n",
    "\n",
    "**Description:** We drop the rows that have an empty/null value for \"price\" and \"created_at\" columns.\n",
    "\n",
    "**Rationale:** Our use case deals with comparing menu item prices throughout time, we can’t analyze menu items if the dates or prices of that item are null. Since we have enough data even when removing the empty values we decided to remove all of the empty values."
   ]
  },
  {
   "cell_type": "markdown",
   "metadata": {},
   "source": [
    "@BEGIN CleanPrice\n",
    "@PARAM file_path\n",
    "@IN Price @AS menu_item_data @URI file:{file_path}/open_refine_cleaned/Menu-Item.csv\n",
    "@OUT data @AS menu_item_clean_price"
   ]
  },
  {
   "cell_type": "code",
   "execution_count": 16,
   "metadata": {},
   "outputs": [],
   "source": [
    "menu_item_df.dropna(subset=['price'], inplace=True)\n",
    "menu_item_df.dropna(subset=['created_at'], inplace=True)"
   ]
  },
  {
   "cell_type": "markdown",
   "metadata": {},
   "source": [
    "@END CleanPrice"
   ]
  },
  {
   "cell_type": "markdown",
   "metadata": {},
   "source": [
    "@BEGIN DishTitleCase\n",
    "@PARAM file_path \n",
    "@IN title @AS dish_data @URI file:{file_path}/open_refine_cleaned/Dish.csv\n",
    "@OUT data @AS dish_title_case"
   ]
  },
  {
   "cell_type": "markdown",
   "metadata": {},
   "source": [
    "**Step 1.5**\n",
    "\n",
    "**Description:** Convert the dish names to title case.\n",
    "\n",
    "**Rationale:** Similar to trimming the dish names, converting the dish names to title case will allow us to more accurately detect duplipcates and merge them for better price tracking."
   ]
  },
  {
   "cell_type": "code",
   "execution_count": 17,
   "metadata": {},
   "outputs": [],
   "source": [
    "dish_df[\"name\"] = dish_df[\"name\"].str.title()"
   ]
  },
  {
   "cell_type": "markdown",
   "metadata": {},
   "source": [
    "@END DishTitleCase"
   ]
  },
  {
   "cell_type": "markdown",
   "metadata": {},
   "source": [
    "**Step 1.6**\n",
    "\n",
    "**Description:** Find all dishes with the same name and grouping them together.\n",
    "Setting all the duplicate dish menu items to the first dish id.\n",
    "Removing all but the first dishes from the dish data set.\n",
    "\n",
    "**Rationale:** Many dish names are similar/duplicates of each other, so they may be referring to the same food item, but under different dish_ids. We find these duplicates and merge them allowing us to have more data points per dish."
   ]
  },
  {
   "cell_type": "markdown",
   "metadata": {},
   "source": [
    "@BEGIN RemoveDuplicateDishes\n",
    "@IN dish @AS dish_title_case\n",
    "@OUT data @AS dish_unique"
   ]
  },
  {
   "cell_type": "code",
   "execution_count": 18,
   "metadata": {},
   "outputs": [],
   "source": [
    "ids = dish_df[\"name\"]\n",
    "duped_name = dish_df[ids.isin(ids[ids.duplicated()])].sort_values(\"name\")\n",
    "duped_ids = duped_name.groupby(['name'])['id'].apply(lambda x: ','.join([str(y) for y in x])).reset_index()\n",
    "ids_to_drop = []\n",
    "\n",
    "for row in duped_ids.iterrows():\n",
    "    dish_ids = row[1][\"id\"].split(\",\")\n",
    "    first = int(dish_ids[0])\n",
    "    for id in dish_ids[1:]:\n",
    "        ids_to_drop.append(int(id))\n",
    "        menu_item_df.loc[menu_item_df[\"dish_id\"] == int(id), \"dish_id\"] = first\n",
    "        \n",
    "dish_df = dish_df[~dish_df['id'].isin(ids_to_drop)]"
   ]
  },
  {
   "cell_type": "markdown",
   "metadata": {},
   "source": [
    "@END RemoveDuplicateDishes"
   ]
  },
  {
   "cell_type": "markdown",
   "metadata": {},
   "source": [
    "**Step 1.7**\n",
    "\n",
    "**Description:** Removing menu items that have prices outside the 10th-90th percentile.\n",
    "\n",
    "**Rationale:** Removing outliers will allow us to more accurately analyze the changes in price over time. If a handful of dishes skyrocket in price, but they were a small part of all dishes, then that could skew the analysis. Therefore we removed all data points where the price was outside of the 10th-90th percentile."
   ]
  },
  {
   "cell_type": "markdown",
   "metadata": {},
   "source": [
    "@BEGIN RemoveOutliers\n",
    "@IN Price @AS menu_item_clean_price\n",
    "@OUT data @AS menu_item_valid_price"
   ]
  },
  {
   "cell_type": "code",
   "execution_count": 19,
   "metadata": {},
   "outputs": [],
   "source": [
    "q_low = menu_item_df[\"price\"].quantile(0.10)\n",
    "q_hi  = menu_item_df[\"price\"].quantile(0.90)\n",
    "iqr = q_hi - q_low\n",
    "mul = 2.0\n",
    "\n",
    "menu_item_df = menu_item_df[(menu_item_df[\"price\"] < q_hi + mul * iqr) & (menu_item_df[\"price\"] > q_low - mul * iqr)]"
   ]
  },
  {
   "cell_type": "markdown",
   "metadata": {},
   "source": [
    "@END RemoveOutliers"
   ]
  },
  {
   "cell_type": "markdown",
   "metadata": {},
   "source": [
    "**Step 1.8**\n",
    "\n",
    "**Description:** Use min-max normalization for the menu item prices.\n",
    "\n",
    "**Rationale:** Normalizing the price data isn’t absolutely necessary for this investigation, but will help keep our data uniform and easy to read and understand."
   ]
  },
  {
   "cell_type": "markdown",
   "metadata": {},
   "source": [
    "@BEGIN NormalizePrice\n",
    "@IN Price @AS menu_item_valid_price\n",
    "@OUT data @AS menu_item_normalized_price"
   ]
  },
  {
   "cell_type": "code",
   "execution_count": 20,
   "metadata": {},
   "outputs": [],
   "source": [
    "menu_item_df[\"price\"] = (menu_item_df[\"price\"] - menu_item_df[\"price\"].min()) / (menu_item_df[\"price\"].max() - menu_item_df[\"price\"].min())"
   ]
  },
  {
   "cell_type": "markdown",
   "metadata": {},
   "source": [
    "@END NormalizePrice"
   ]
  },
  {
   "cell_type": "markdown",
   "metadata": {},
   "source": [
    "**Step 1.9**\n",
    "\n",
    "**Description:** Removing menu items that don’t have a particular dish associated with it and removing dishes that have no menu items associated with it.\n",
    "\n",
    "**Rationale:** If a menu item doesn't have an associated dish in the dish dataset, then we don’t want to consider it since that may be an invalid entry or it may not be possible to track its price over time."
   ]
  },
  {
   "cell_type": "markdown",
   "metadata": {},
   "source": [
    "@BEGIN RemoveOrphanDishes\n",
    "@IN dish @AS dish_unique\n",
    "@OUT data @AS dish_valid"
   ]
  },
  {
   "cell_type": "code",
   "execution_count": 21,
   "metadata": {},
   "outputs": [],
   "source": [
    "dish_df = dish_df[dish_df['id'].isin(menu_item_df[\"dish_id\"])]\n",
    "menu_item_df = menu_item_df[menu_item_df['dish_id'].isin(dish_df[\"id\"])]"
   ]
  },
  {
   "cell_type": "markdown",
   "metadata": {},
   "source": [
    "@END RemoveOrphanDishes"
   ]
  },
  {
   "cell_type": "markdown",
   "metadata": {},
   "source": [
    "@BEGIN RemoveOrphanMenuItems\n",
    "@IN menu @AS menu_item_normalized_price\n",
    "@OUT data @AS menu_items_valid\n",
    "@END RemoveOrphanMenuItems"
   ]
  },
  {
   "cell_type": "markdown",
   "metadata": {},
   "source": [
    "**Step 1.10**\n",
    "\n",
    "**Description:** Standardizing the created_at into ISO format.\n",
    "\n",
    "**Rationale:** In order to analyze the dish prices over time, we need a standard date format for the created_at field."
   ]
  },
  {
   "cell_type": "markdown",
   "metadata": {},
   "source": [
    "@BEGIN StandardizeDates\n",
    "@IN menu @AS menu_items_valid\n",
    "@OUT data @AS menu_items_std_date"
   ]
  },
  {
   "cell_type": "code",
   "execution_count": 22,
   "metadata": {},
   "outputs": [],
   "source": [
    "menu_item_df['created_at'] = pd.to_datetime(menu_item_df['created_at'])\n"
   ]
  },
  {
   "cell_type": "markdown",
   "metadata": {},
   "source": [
    "@END StandardizeDates"
   ]
  },
  {
   "cell_type": "markdown",
   "metadata": {},
   "source": [
    "**Step 1.11**\n",
    "\n",
    "**Description:** Write the cleaned data to files."
   ]
  },
  {
   "cell_type": "code",
   "execution_count": 23,
   "metadata": {},
   "outputs": [],
   "source": [
    "## Write cleaned data to files\n",
    "dish_df.to_csv(\"../python_cleaned/Dish.csv\", index=False)\n",
    "menu_item_df.to_csv(\"../python_cleaned/Menu-Item.csv\", index=False)"
   ]
  },
  {
   "cell_type": "markdown",
   "metadata": {},
   "source": [
    "## Section 2: Document Data Quality Changes"
   ]
  },
  {
   "cell_type": "markdown",
   "metadata": {},
   "source": [
    "**Description:** Run a series of tests to prove that the data quality has been improved.\n",
    "\n",
    "**Rationale:** We compare and contrast the uncleaned versus the cleaned data."
   ]
  },
  {
   "cell_type": "code",
   "execution_count": 24,
   "metadata": {},
   "outputs": [],
   "source": [
    "dish_df_uncleaned = pd.read_csv(\"../open_refine_cleaned/Dish.csv\")\n",
    "menu_item_df_uncleaned = pd.read_csv(\"../open_refine_cleaned/Menu-Item.csv\")"
   ]
  },
  {
   "cell_type": "markdown",
   "metadata": {},
   "source": [
    "**Step 2.1a**\n",
    "\n",
    "**Description:** Provide a high level summary of the cleaned versus uncleaned data frames for the dish_df.\n",
    "\n",
    "**Test Type:** Data Completeness\n",
    "\n",
    "**Rationale:** We know that many dish names are similar/duplicates of each other, so they may be referring to the same food item, but under different dish_ids. We removed these duplicates, which would explain why the cleaned dish_df has 232,874 ids versus the uncleaned dish_df which has 423,397."
   ]
  },
  {
   "cell_type": "code",
   "execution_count": 25,
   "metadata": {},
   "outputs": [
    {
     "name": "stdout",
     "output_type": "stream",
     "text": [
      "<class 'pandas.core.frame.DataFrame'>\n",
      "RangeIndex: 423397 entries, 0 to 423396\n",
      "Data columns (total 9 columns):\n",
      " #   Column          Non-Null Count   Dtype  \n",
      "---  ------          --------------   -----  \n",
      " 0   id              423397 non-null  int64  \n",
      " 1   name            423397 non-null  object \n",
      " 2   description     0 non-null       float64\n",
      " 3   menus_appeared  423397 non-null  int64  \n",
      " 4   times_appeared  423397 non-null  int64  \n",
      " 5   first_appeared  423397 non-null  int64  \n",
      " 6   last_appeared   423397 non-null  int64  \n",
      " 7   lowest_price    394297 non-null  float64\n",
      " 8   highest_price   394297 non-null  float64\n",
      "dtypes: float64(3), int64(5), object(1)\n",
      "memory usage: 29.1+ MB\n"
     ]
    }
   ],
   "source": [
    "dish_df_uncleaned.info()"
   ]
  },
  {
   "cell_type": "code",
   "execution_count": 26,
   "metadata": {},
   "outputs": [
    {
     "name": "stdout",
     "output_type": "stream",
     "text": [
      "<class 'pandas.core.frame.DataFrame'>\n",
      "Int64Index: 232874 entries, 3 to 423396\n",
      "Data columns (total 9 columns):\n",
      " #   Column          Non-Null Count   Dtype  \n",
      "---  ------          --------------   -----  \n",
      " 0   id              232874 non-null  int64  \n",
      " 1   name            232874 non-null  object \n",
      " 2   description     0 non-null       float64\n",
      " 3   menus_appeared  232874 non-null  int64  \n",
      " 4   times_appeared  232874 non-null  int64  \n",
      " 5   first_appeared  232874 non-null  int64  \n",
      " 6   last_appeared   232874 non-null  int64  \n",
      " 7   lowest_price    231661 non-null  float64\n",
      " 8   highest_price   231661 non-null  float64\n",
      "dtypes: float64(3), int64(5), object(1)\n",
      "memory usage: 17.8+ MB\n"
     ]
    }
   ],
   "source": [
    "dish_df.info()"
   ]
  },
  {
   "cell_type": "markdown",
   "metadata": {},
   "source": [
    "**Step 2.1b**\n",
    "\n",
    "**Description:** Provide a high level summary of the cleaned versus uncleaned data frames for the menu_item_df.\n",
    "\n",
    "**Test Type:** Data Completeness\n",
    "\n",
    "**Rationale:** We dropped menu items that don't have an associated dish in the dish dataset, which would explain why the cleaned menu_item_df has 846,136 ids versus the uncleaned menu_item_df which has 1,332,726 ids."
   ]
  },
  {
   "cell_type": "code",
   "execution_count": 27,
   "metadata": {},
   "outputs": [
    {
     "name": "stdout",
     "output_type": "stream",
     "text": [
      "<class 'pandas.core.frame.DataFrame'>\n",
      "RangeIndex: 1332726 entries, 0 to 1332725\n",
      "Data columns (total 9 columns):\n",
      " #   Column        Non-Null Count    Dtype  \n",
      "---  ------        --------------    -----  \n",
      " 0   id            1332726 non-null  int64  \n",
      " 1   menu_page_id  1332726 non-null  int64  \n",
      " 2   price         886810 non-null   float64\n",
      " 3   high_price    91905 non-null    float64\n",
      " 4   dish_id       1332485 non-null  float64\n",
      " 5   created_at    1332726 non-null  object \n",
      " 6   updated_at    1332726 non-null  object \n",
      " 7   xpos          1332726 non-null  float64\n",
      " 8   ypos          1332726 non-null  float64\n",
      "dtypes: float64(5), int64(2), object(2)\n",
      "memory usage: 91.5+ MB\n"
     ]
    }
   ],
   "source": [
    "menu_item_df_uncleaned.info()"
   ]
  },
  {
   "cell_type": "code",
   "execution_count": 28,
   "metadata": {},
   "outputs": [
    {
     "name": "stdout",
     "output_type": "stream",
     "text": [
      "<class 'pandas.core.frame.DataFrame'>\n",
      "Int64Index: 846136 entries, 0 to 1332717\n",
      "Data columns (total 9 columns):\n",
      " #   Column        Non-Null Count   Dtype              \n",
      "---  ------        --------------   -----              \n",
      " 0   id            846136 non-null  int64              \n",
      " 1   menu_page_id  846136 non-null  int64              \n",
      " 2   price         846136 non-null  float64            \n",
      " 3   high_price    89338 non-null   float64            \n",
      " 4   dish_id       846136 non-null  float64            \n",
      " 5   created_at    846136 non-null  datetime64[ns, UTC]\n",
      " 6   updated_at    846136 non-null  object             \n",
      " 7   xpos          846136 non-null  float64            \n",
      " 8   ypos          846136 non-null  float64            \n",
      "dtypes: datetime64[ns, UTC](1), float64(5), int64(2), object(1)\n",
      "memory usage: 64.6+ MB\n"
     ]
    }
   ],
   "source": [
    "menu_item_df.info()"
   ]
  },
  {
   "cell_type": "markdown",
   "metadata": {},
   "source": [
    "**Step 2.2**\n",
    "\n",
    "**Test Type:** Data Completeness\n",
    "\n",
    "**Description:** Test to see if there are still missing dish prices.\n",
    "\n",
    "**Rationale:** In step 1.4 we removed dishes with a null price, the following test will assure that there are no dishes with missing prices."
   ]
  },
  {
   "cell_type": "code",
   "execution_count": 29,
   "metadata": {},
   "outputs": [],
   "source": [
    "def test_missing_dish_prices(menu_item_df):\n",
    "    missing_dish_price = menu_item_df[\"price\"].isnull().sum()\n",
    "    assert (\n",
    "        missing_dish_price == 0\n",
    "    ), f\"There are {missing_dish_price} missing dish prices\"\n",
    "    print('Test passed!')\n"
   ]
  },
  {
   "cell_type": "code",
   "execution_count": 30,
   "metadata": {},
   "outputs": [
    {
     "name": "stdout",
     "output_type": "stream",
     "text": [
      "Test passed!\n"
     ]
    }
   ],
   "source": [
    "test_missing_dish_prices(menu_item_df)"
   ]
  },
  {
   "cell_type": "markdown",
   "metadata": {},
   "source": [
    "**Step 2.3**\n",
    "\n",
    "**Test Type:** Data Completeness\n",
    "\n",
    "**Description:** Test to see if there are still missing created dates.\n",
    "\n",
    "**Rationale:** Each item on the menu needs a created at date."
   ]
  },
  {
   "cell_type": "code",
   "execution_count": 31,
   "metadata": {},
   "outputs": [],
   "source": [
    "def test_missing_created_dates(menu_item_df):\n",
    "    missing_created_at = menu_item_df[\"created_at\"].isnull().sum()\n",
    "    assert (\n",
    "        missing_created_at == 0\n",
    "    ), f\"There are {missing_created_at} missing created at date\"\n",
    "    print('Test passed!')"
   ]
  },
  {
   "cell_type": "code",
   "execution_count": 32,
   "metadata": {},
   "outputs": [
    {
     "name": "stdout",
     "output_type": "stream",
     "text": [
      "Test passed!\n"
     ]
    }
   ],
   "source": [
    "test_missing_created_dates(menu_item_df)"
   ]
  },
  {
   "cell_type": "markdown",
   "metadata": {},
   "source": [
    "**Step 2.4**\n",
    "\n",
    "**Test Type:** Integrity Constraint Violations\n",
    "\n",
    "**Description:** Test to see if there is a valid iso format for dates.\n",
    "\n",
    "**Rationale:** In order to compare dish prices over time, the dates must be in the proper format."
   ]
  },
  {
   "cell_type": "code",
   "execution_count": 33,
   "metadata": {},
   "outputs": [],
   "source": [
    "def test_created_at_datetime(menu_item_df):\n",
    "    try:\n",
    "        pd.to_datetime(menu_item_df['created_at'])\n",
    "        is_datetime = True\n",
    "    except ValueError:\n",
    "        is_datetime = False\n",
    "    assert (\n",
    "        is_datetime\n",
    "    ), f\"'created_at' column is of type {menu_item_df['created_at'].dtype}, and couldn't be converted to datetime\"\n",
    "    print('Test passed!')\n"
   ]
  },
  {
   "cell_type": "code",
   "execution_count": 34,
   "metadata": {},
   "outputs": [
    {
     "data": {
      "text/html": [
       "<div>\n",
       "<style scoped>\n",
       "    .dataframe tbody tr th:only-of-type {\n",
       "        vertical-align: middle;\n",
       "    }\n",
       "\n",
       "    .dataframe tbody tr th {\n",
       "        vertical-align: top;\n",
       "    }\n",
       "\n",
       "    .dataframe thead th {\n",
       "        text-align: right;\n",
       "    }\n",
       "</style>\n",
       "<table border=\"1\" class=\"dataframe\">\n",
       "  <thead>\n",
       "    <tr style=\"text-align: right;\">\n",
       "      <th></th>\n",
       "      <th>id</th>\n",
       "      <th>menu_page_id</th>\n",
       "      <th>price</th>\n",
       "      <th>high_price</th>\n",
       "      <th>dish_id</th>\n",
       "      <th>created_at</th>\n",
       "      <th>updated_at</th>\n",
       "      <th>xpos</th>\n",
       "      <th>ypos</th>\n",
       "    </tr>\n",
       "  </thead>\n",
       "  <tbody>\n",
       "    <tr>\n",
       "      <th>0</th>\n",
       "      <td>1</td>\n",
       "      <td>1389</td>\n",
       "      <td>0.039293</td>\n",
       "      <td>NaN</td>\n",
       "      <td>397198.0</td>\n",
       "      <td>2011-03-28 00:00:00+00:00</td>\n",
       "      <td>2011-04-19T00:00:00Z</td>\n",
       "      <td>0.111429</td>\n",
       "      <td>0.254735</td>\n",
       "    </tr>\n",
       "    <tr>\n",
       "      <th>1</th>\n",
       "      <td>2</td>\n",
       "      <td>1389</td>\n",
       "      <td>0.058939</td>\n",
       "      <td>NaN</td>\n",
       "      <td>440094.0</td>\n",
       "      <td>2011-03-28 00:00:00+00:00</td>\n",
       "      <td>2011-04-19T00:00:00Z</td>\n",
       "      <td>0.438571</td>\n",
       "      <td>0.254735</td>\n",
       "    </tr>\n",
       "    <tr>\n",
       "      <th>2</th>\n",
       "      <td>3</td>\n",
       "      <td>1389</td>\n",
       "      <td>0.039293</td>\n",
       "      <td>NaN</td>\n",
       "      <td>396714.0</td>\n",
       "      <td>2011-03-28 00:00:00+00:00</td>\n",
       "      <td>2011-04-19T00:00:00Z</td>\n",
       "      <td>0.140000</td>\n",
       "      <td>0.261922</td>\n",
       "    </tr>\n",
       "    <tr>\n",
       "      <th>3</th>\n",
       "      <td>4</td>\n",
       "      <td>1389</td>\n",
       "      <td>0.049116</td>\n",
       "      <td>NaN</td>\n",
       "      <td>4.0</td>\n",
       "      <td>2011-03-28 00:00:00+00:00</td>\n",
       "      <td>2011-04-19T00:00:00Z</td>\n",
       "      <td>0.377143</td>\n",
       "      <td>0.262720</td>\n",
       "    </tr>\n",
       "    <tr>\n",
       "      <th>4</th>\n",
       "      <td>5</td>\n",
       "      <td>3079</td>\n",
       "      <td>0.049116</td>\n",
       "      <td>1.0</td>\n",
       "      <td>5.0</td>\n",
       "      <td>2011-03-28 00:00:00+00:00</td>\n",
       "      <td>2011-04-13T00:00:00Z</td>\n",
       "      <td>0.105714</td>\n",
       "      <td>0.313178</td>\n",
       "    </tr>\n",
       "  </tbody>\n",
       "</table>\n",
       "</div>"
      ],
      "text/plain": [
       "   id  menu_page_id     price  high_price   dish_id                created_at  \\\n",
       "0   1          1389  0.039293         NaN  397198.0 2011-03-28 00:00:00+00:00   \n",
       "1   2          1389  0.058939         NaN  440094.0 2011-03-28 00:00:00+00:00   \n",
       "2   3          1389  0.039293         NaN  396714.0 2011-03-28 00:00:00+00:00   \n",
       "3   4          1389  0.049116         NaN       4.0 2011-03-28 00:00:00+00:00   \n",
       "4   5          3079  0.049116         1.0       5.0 2011-03-28 00:00:00+00:00   \n",
       "\n",
       "             updated_at      xpos      ypos  \n",
       "0  2011-04-19T00:00:00Z  0.111429  0.254735  \n",
       "1  2011-04-19T00:00:00Z  0.438571  0.254735  \n",
       "2  2011-04-19T00:00:00Z  0.140000  0.261922  \n",
       "3  2011-04-19T00:00:00Z  0.377143  0.262720  \n",
       "4  2011-04-13T00:00:00Z  0.105714  0.313178  "
      ]
     },
     "execution_count": 34,
     "metadata": {},
     "output_type": "execute_result"
    }
   ],
   "source": [
    "menu_item_df.head()"
   ]
  },
  {
   "cell_type": "code",
   "execution_count": 35,
   "metadata": {},
   "outputs": [
    {
     "name": "stdout",
     "output_type": "stream",
     "text": [
      "Test passed!\n"
     ]
    }
   ],
   "source": [
    "test_created_at_datetime(menu_item_df)"
   ]
  },
  {
   "cell_type": "markdown",
   "metadata": {},
   "source": [
    "**Step 2.5**\n",
    "\n",
    "**Test Type:** Integrity Constraint Violations\n",
    "\n",
    "**Description:** Test to see if are no duplicate dish names.\n",
    "\n",
    "**Rationale:** In order to compare dishes properly, we need to remove duplicates.  We did this in step 1.6 in python."
   ]
  },
  {
   "cell_type": "code",
   "execution_count": 36,
   "metadata": {},
   "outputs": [],
   "source": [
    "# Test function to check for duplicate names\n",
    "def test_no_duplicate_names(dish_df):\n",
    "    duplicate_names = dish_df.groupby([\"name\"])[\"name\"].count()\n",
    "    num_duplicate_names = duplicate_names[duplicate_names > 1].count()\n",
    "\n",
    "    assert (\n",
    "        num_duplicate_names == 0\n",
    "    ), f\"There are {num_duplicate_names} duplicate dish names\"\n",
    "    print('Test passed!')"
   ]
  },
  {
   "cell_type": "code",
   "execution_count": 37,
   "metadata": {
    "scrolled": true
   },
   "outputs": [
    {
     "name": "stdout",
     "output_type": "stream",
     "text": [
      "Test passed!\n"
     ]
    }
   ],
   "source": [
    "test_no_duplicate_names(dish_df)"
   ]
  },
  {
   "cell_type": "markdown",
   "metadata": {},
   "source": [
    "**Step 2.6**\n",
    "\n",
    "**Test Type:** Integrity Constraint Violations\n",
    "\n",
    "**Description:** Test to ensure there are no leading or trailing whitespaces.\n",
    "\n",
    "**Rationale:** In order to compare dishes properly, we need to remove duplicates.  We did this in step 1.1 with OpenRefine."
   ]
  },
  {
   "cell_type": "code",
   "execution_count": 38,
   "metadata": {},
   "outputs": [],
   "source": [
    "def test_no_leading_trailing_whitespace(dish_df):\n",
    "    dirty_dish_names = (\n",
    "        dish_df[\"name\"].apply(lambda x: isinstance(x, str) and (x.strip() != x)).sum()\n",
    "    )\n",
    "\n",
    "    assert (\n",
    "        dirty_dish_names == 0\n",
    "    ), f\"There are {dirty_dish_names} dish names with leading and trailing whitespace\"\n",
    "    print('Test passed!')"
   ]
  },
  {
   "cell_type": "code",
   "execution_count": 39,
   "metadata": {},
   "outputs": [
    {
     "name": "stdout",
     "output_type": "stream",
     "text": [
      "Test passed!\n"
     ]
    }
   ],
   "source": [
    "test_no_leading_trailing_whitespace(dish_df)"
   ]
  },
  {
   "cell_type": "markdown",
   "metadata": {},
   "source": [
    "**Step 2.7**\n",
    "\n",
    "**Test Type:** Integrity Constraint Violations\n",
    "\n",
    "**Description:** Test to ensure dish names are formatted consistently with title case.\n",
    "\n",
    "**Rationale:** In order to compare dishes properly, we need each name to be in title case.  We did this in step 1.5 in python."
   ]
  },
  {
   "cell_type": "code",
   "execution_count": 40,
   "metadata": {},
   "outputs": [],
   "source": [
    "def test_name_consistent_format(dish_df):\n",
    "    inconsistent_format_count = 0\n",
    "\n",
    "    for name in dish_df[\"name\"]:\n",
    "        if not isinstance(name, str):\n",
    "            # check if the data is of type string\n",
    "            inconsistent_format_count += 1\n",
    "        elif name != name.title():\n",
    "            # check if the name is in title case\n",
    "            inconsistent_format_count += 1\n",
    "\n",
    "    assert (\n",
    "        inconsistent_format_count == 0\n",
    "    ), f\"There are {inconsistent_format_count} names with inconsistent format\"\n",
    "    print('Test passed!')"
   ]
  },
  {
   "cell_type": "code",
   "execution_count": 41,
   "metadata": {},
   "outputs": [
    {
     "name": "stdout",
     "output_type": "stream",
     "text": [
      "Test passed!\n"
     ]
    }
   ],
   "source": [
    "test_name_consistent_format(dish_df)"
   ]
  },
  {
   "cell_type": "markdown",
   "metadata": {},
   "source": [
    "**Step 2.8**\n",
    "\n",
    "**Test Type:** Consistency\n",
    "\n",
    "**Description:** Test to ensure that outliers have been removed.\n",
    "\n",
    "**Rationale:** In order to avoid data skewing we need to remove outliers.  We removed outliers in section 1.7."
   ]
  },
  {
   "cell_type": "code",
   "execution_count": 42,
   "metadata": {},
   "outputs": [],
   "source": [
    "def outliers_removed(olddataframe, dataframe, column_name, multiplier=1.5):\n",
    "    Q1 = olddataframe[column_name].quantile(0.10)\n",
    "    Q3 = olddataframe[column_name].quantile(0.90)\n",
    "    IQR = Q3 - Q1\n",
    "\n",
    "    # Count the number of outliers\n",
    "    outliers = dataframe[\n",
    "        (dataframe[column_name] < Q1 - multiplier * IQR)\n",
    "        | (dataframe[column_name] > Q3 + multiplier * IQR)\n",
    "    ]\n",
    "    outliers_count = outliers.shape[0]\n",
    "\n",
    "    assert outliers_count == 0, f\"There are {outliers_count} outliers in {column_name}\"\n",
    "\n",
    "def test_menu_item_price_outliers(old_menu_item_df, menu_item_df):\n",
    "    outliers_removed(old_menu_item_df, menu_item_df, \"price\", multiplier=2.0)\n",
    "    print('test passed')"
   ]
  },
  {
   "cell_type": "code",
   "execution_count": 43,
   "metadata": {},
   "outputs": [
    {
     "name": "stdout",
     "output_type": "stream",
     "text": [
      "test passed\n"
     ]
    }
   ],
   "source": [
    "test_menu_item_price_outliers(menu_item_df_uncleaned, menu_item_df)"
   ]
  },
  {
   "cell_type": "code",
   "execution_count": 44,
   "metadata": {},
   "outputs": [
    {
     "data": {
      "text/plain": [
       "count    886810.000000\n",
       "mean         12.838627\n",
       "std         499.547387\n",
       "min           0.000000\n",
       "25%           0.250000\n",
       "50%           0.400000\n",
       "75%           1.000000\n",
       "max      180000.000000\n",
       "Name: price, dtype: float64"
      ]
     },
     "execution_count": 44,
     "metadata": {},
     "output_type": "execute_result"
    }
   ],
   "source": [
    "menu_item_df_uncleaned.price.describe()"
   ]
  },
  {
   "cell_type": "code",
   "execution_count": 45,
   "metadata": {},
   "outputs": [
    {
     "data": {
      "text/plain": [
       "count    846136.000000\n",
       "mean          0.087266\n",
       "std           0.137737\n",
       "min           0.000000\n",
       "25%           0.024558\n",
       "50%           0.039293\n",
       "75%           0.078585\n",
       "max           1.000000\n",
       "Name: price, dtype: float64"
      ]
     },
     "execution_count": 45,
     "metadata": {},
     "output_type": "execute_result"
    }
   ],
   "source": [
    "menu_item_df.price.describe()"
   ]
  },
  {
   "cell_type": "markdown",
   "metadata": {},
   "source": [
    "**Step 2.9**\n",
    "\n",
    "**Test Type:** Consistency\n",
    "\n",
    "**Description:** Test to ensure that the data has min-max normalization.\n",
    "\n",
    "**Rationale:** The price needs to be on the same scale so that each item is equally weighted."
   ]
  },
  {
   "cell_type": "code",
   "execution_count": 46,
   "metadata": {},
   "outputs": [],
   "source": [
    "def test_price_normalization(menu_item_df):\n",
    "    min_price = menu_item_df['price'].min()\n",
    "    max_price = menu_item_df['price'].max()\n",
    "    \n",
    "    assert min_price == 0, f\"Minimum price is {min_price}, expected 0 after normalization\"\n",
    "    assert max_price == 1, f\"Maximum price is {max_price}, expected 1 after normalization\"\n",
    "    \n",
    "    # To additionally check if there are any values outside the [0,1] range\n",
    "    assert not ((menu_item_df['price'] < 0).any() or (menu_item_df['price'] > 1).any()), \"There are 'price' values outside the [0,1] range after normalization\"\n",
    "    \n",
    "    print('Test passed!')\n"
   ]
  },
  {
   "cell_type": "code",
   "execution_count": 47,
   "metadata": {},
   "outputs": [
    {
     "name": "stdout",
     "output_type": "stream",
     "text": [
      "Test passed!\n"
     ]
    }
   ],
   "source": [
    "test_price_normalization(menu_item_df)\n"
   ]
  },
  {
   "cell_type": "markdown",
   "metadata": {},
   "source": [
    "## Section 3: Work Flow Model"
   ]
  },
  {
   "cell_type": "markdown",
   "metadata": {},
   "source": [
    "Data cleaning is done in 2 Phases for this project\n",
    "\n",
    "Phase 1 - Basic Cleaning:\n",
    "Tools Used: Open Refine\n",
    "Steps: Trimming white spaces, string to number conversion, and other basic cleaning tasks are performed using Open Refine.\n",
    "\n",
    "Phase 2 - Additional Cleaning:\n",
    "Tools Used: Python\n",
    "Steps: More advanced cleaning tasks, such as removing missing prices, outlier detection, etc., are done using Python scripts.\n",
    "\n",
    "Data Lineage Documentation:\n",
    "Tools Used: YesWorkflow (YW) and OR2YW tool\n",
    "\n",
    "YesWorkflow (YW): Used to document the cleaning steps performed by the Python script. YW compatible comments are added to the Python scripts, enabling YesWorkflow to read and create a workflow diagram based on these comments.\n",
    "\n",
    "OR2YW: Used to document the internal cleaning steps performed using Open Refine. OR2YW takes a cleaning history JSON file as input and generates a workflow diagram that documents all the changes applied to the dataset during the Open Refine cleaning process.\n",
    "\n",
    "Overall Workflow Documentation:\n",
    "Tool Used: YesWorkflow (YW)\n",
    "YesWorkflow is used to document the overall workflow of the data cleaning process, providing a visual representation of how the data moves through the various cleaning phases and tools used."
   ]
  },
  {
   "cell_type": "code",
   "execution_count": 55,
   "metadata": {},
   "outputs": [
    {
     "data": {
      "text/plain": [
       "<matplotlib.image.AxesImage at 0x1d2827e5dc0>"
      ]
     },
     "execution_count": 55,
     "metadata": {},
     "output_type": "execute_result"
    },
    {
     "data": {
      "image/png": "[encoded data removed]",
      "text/plain": [
       "<Figure size 800x550 with 1 Axes>"
      ]
     },
     "metadata": {},
     "output_type": "display_data"
    }
   ],
   "source": [
    "# reading png image file\n",
    "im = img.imread('../yesworkflow/overall_workflow.png')\n",
    "# show image\n",
    "plt.imshow(im)"
   ]
  },
  {
   "cell_type": "markdown",
   "metadata": {},
   "source": [
    "Step 3.1\n",
    "\n",
    "Workflow Step: Dish Open Refine cleaning workflow\n",
    "Tool Used: or2yw tool\n",
    "Description: Generates a workflow diagram that documents all the changes applied to the dish dataset during the Open Refine cleaning process."
   ]
  },
  {
   "cell_type": "code",
   "execution_count": 48,
   "metadata": {},
   "outputs": [
    {
     "data": {
      "text/plain": [
       "'java found:  java\\ndot found:  dot\\nFile ../yesworkflow/dish_openrefine_workflow.png generated.\\n'"
      ]
     },
     "execution_count": 48,
     "metadata": {},
     "output_type": "execute_result"
    }
   ],
   "source": [
    "os.popen(\"or2yw -i dish_history.json -o ../yesworkflow/dish_openrefine_workflow.png -ot=png\").read()"
   ]
  },
  {
   "cell_type": "code",
   "execution_count": null,
   "metadata": {},
   "outputs": [],
   "source": [
    "# reading png image file\n",
    "im = img.imread('../yesworkflow/dish_openrefine_workflow.png')\n",
    "# show image\n",
    "plt.imshow(im)"
   ]
  },
  {
   "cell_type": "code",
   "execution_count": null,
   "metadata": {},
   "outputs": [],
   "source": [
    "Step 3.2\n",
    "\n",
    "Workflow Step: Menu Item Open Refine cleaning workflow\n",
    "\n",
    "Tool Used: or2yw tool\n",
    "Description: Generates a workflow diagram that documents all the changes applied to the menu_item dataset during the Open Refine cleaning process."
   ]
  },
  {
   "cell_type": "code",
   "execution_count": 50,
   "metadata": {},
   "outputs": [
    {
     "data": {
      "text/plain": [
       "'java found:  java\\ndot found:  dot\\nFile ../yesworkflow/menu_item_workflow.png generated.\\n'"
      ]
     },
     "execution_count": 50,
     "metadata": {},
     "output_type": "execute_result"
    }
   ],
   "source": [
    "os.popen(\"or2yw -i menu_item_history.json -o ../yesworkflow/menu_item_workflow.png -ot=png\").read()"
   ]
  },
  {
   "cell_type": "code",
   "execution_count": 51,
   "metadata": {},
   "outputs": [
    {
     "data": {
      "text/plain": [
       "<matplotlib.image.AxesImage at 0x1d28278d790>"
      ]
     },
     "execution_count": 51,
     "metadata": {},
     "output_type": "execute_result"
    },
    {
     "data": {
      "image/png": "[encoded data removed]",
      "text/plain": [
       "<Figure size 800x550 with 1 Axes>"
      ]
     },
     "metadata": {},
     "output_type": "display_data"
    }
   ],
   "source": [
    "# reading png image file\n",
    "im = img.imread('../yesworkflow/menu_item_workflow.png')\n",
    "# show image\n",
    "plt.imshow(im)"
   ]
  },
  {
   "cell_type": "markdown",
   "metadata": {},
   "source": [
    "Step 3.2\n",
    "\n",
    "Workflow Step: Final Cleaning workflow for Dish and Menu Item \n",
    "Tool Used: YesWorkflow\n",
    "Description: Generate Yes Workflow for python cleaning steps performed on dish and menu_item dataset"
   ]
  },
  {
   "cell_type": "code",
   "execution_count": 53,
   "metadata": {},
   "outputs": [
    {
     "data": {
      "text/plain": [
       "''"
      ]
     },
     "execution_count": 53,
     "metadata": {},
     "output_type": "execute_result"
    }
   ],
   "source": [
    "os.popen(\"java -jar yesworkflow-0.2.0-jar-with-dependencies.jar graph data_cleaning_phase_II.py | dot -Tpng -o ../yesworkflow/dish_menu_clean_workflow.png\").read()"
   ]
  },
  {
   "cell_type": "code",
   "execution_count": 54,
   "metadata": {},
   "outputs": [
    {
     "data": {
      "text/plain": [
       "<matplotlib.image.AxesImage at 0x1d2827a0670>"
      ]
     },
     "execution_count": 54,
     "metadata": {},
     "output_type": "execute_result"
    },
    {
     "data": {
      "image/png": "[encoded data removed]",
      "text/plain": [
       "<Figure size 800x550 with 1 Axes>"
      ]
     },
     "metadata": {},
     "output_type": "display_data"
    }
   ],
   "source": [
    "# reading png image file\n",
    "im = img.imread('../yesworkflow/dish_menu_clean_workflow.png')\n",
    "# show image\n",
    "plt.imshow(im)"
   ]
  },
  {
   "cell_type": "markdown",
   "metadata": {},
   "source": [
    "## Section 4: Conclusion"
   ]
  },
  {
   "cell_type": "markdown",
   "metadata": {},
   "source": [
    "In Phase II of the project, we focused on data cleaning to address the data quality problems identified in the dataset. We successfully executed test cases to ensure the data is clean and ready for analysis in the main use case - Dish Price Analysis (U1). The initial data quality problems related to missing data, dirty data, key constraints, and duplicates/similarities were addressed using various data cleaning techniques.\n",
    "\n",
    "For the main use case, we specifically focused on data related to dish prices, including the 'price', 'highest price', 'lowest price', and 'created at' fields. We ensured that the dataset has no missing dish prices, no NULL values in any columns, and outliers were removed. Additionally, we standardized data formats to ensure consistency, trimmed leading and trailing whitespaces from dish names, and removed duplicate dish names.\n",
    "\n",
    "Through this comprehensive data cleaning process, we have enhanced the quality of the dataset, ensuring it is accurate, reliable, and suitable for the Dish Price Analysis (U1) use case. This allows us to proceed with further data analysis and gain valuable insights into historical changes in dish prices over time. The clean and structured dataset will enable us to provide meaningful recommendations.\n",
    "\n",
    "In phase 2 the team made the following contributions:\n",
    "\n",
    "- Section 1 - Mohammed\n",
    "- Section 2 - David\n",
    "- Section 3 - Jhansi\n",
    "- Section 4 - All\n"
   ]
  },
  {
   "cell_type": "markdown",
   "metadata": {},
   "source": [
    "@END main"
   ]
  }
 ],
 "metadata": {
  "kernelspec": {
   "display_name": "Python 3 (ipykernel)",
   "language": "python",
   "name": "python3"
  },
  "language_info": {
   "codemirror_mode": {
    "name": "ipython",
    "version": 3
   },
   "file_extension": ".py",
   "mimetype": "text/x-python",
   "name": "python",
   "nbconvert_exporter": "python",
   "pygments_lexer": "ipython3",
   "version": "3.8.5"
  }
 },
 "nbformat": 4,
 "nbformat_minor": 5
}
